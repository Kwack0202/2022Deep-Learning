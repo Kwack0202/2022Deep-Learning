{
 "cells": [
  {
   "cell_type": "markdown",
   "metadata": {},
   "source": [
    "# Import"
   ]
  },
  {
   "cell_type": "code",
   "execution_count": 1,
   "metadata": {},
   "outputs": [],
   "source": [
    "import pandas as pd\n",
    "import numpy as np\n",
    "import math\n",
    "import tqdm as tq\n",
    "\n",
    "\n",
    "import matplotlib.pyplot as plt\n",
    "import seaborn as sns\n",
    "from matplotlib import rcParams\n",
    "%matplotlib inline\n",
    "\n",
    "import warnings\n",
    "warnings.filterwarnings(action='ignore')\n",
    "# Plots\n",
    "# ==============================================================================\n",
    "from statsmodels.graphics.tsaplots import plot_acf\n",
    "from statsmodels.graphics.tsaplots import plot_pacf\n",
    "plt.style.use('fivethirtyeight')\n",
    "\n",
    "# Modelling and Forecasting\n",
    "# ==============================================================================\n",
    "from sklearn.linear_model import Ridge\n",
    "from lightgbm import LGBMRegressor\n",
    "from sklearn.preprocessing import StandardScaler\n",
    "from sklearn.metrics import mean_absolute_error\n",
    "from sklearn.preprocessing import MinMaxScaler\n",
    "\n",
    "# 패키지\n",
    "from xgboost import XGBRegressor\n",
    "import xgboost as xgb\n",
    "import lightgbm as lgb\n",
    "import catboost as ctb\n",
    "from ngboost import NGBRegressor\n",
    "\n",
    "from sklearn.svm import SVR\n",
    "from sklearn.ensemble import RandomForestRegressor\n",
    "from sklearn.datasets import make_regression\n",
    "from sklearn.model_selection import GridSearchCV\n",
    "import math \n",
    "\n",
    "from sklearn.preprocessing import StandardScaler\n",
    "from sklearn.neural_network import MLPRegressor\n",
    "from sklearn.metrics import mean_squared_error, mean_absolute_error\n",
    "\n",
    "from itertools import *\n",
    "from IPython.display import clear_output"
   ]
  },
  {
   "cell_type": "code",
   "execution_count": 2,
   "metadata": {},
   "outputs": [
    {
     "data": {
      "text/html": [
       "<div>\n",
       "<style scoped>\n",
       "    .dataframe tbody tr th:only-of-type {\n",
       "        vertical-align: middle;\n",
       "    }\n",
       "\n",
       "    .dataframe tbody tr th {\n",
       "        vertical-align: top;\n",
       "    }\n",
       "\n",
       "    .dataframe thead th {\n",
       "        text-align: right;\n",
       "    }\n",
       "</style>\n",
       "<table border=\"1\" class=\"dataframe\">\n",
       "  <thead>\n",
       "    <tr style=\"text-align: right;\">\n",
       "      <th></th>\n",
       "      <th>Date</th>\n",
       "      <th>Month</th>\n",
       "      <th>Day</th>\n",
       "      <th>Weekday</th>\n",
       "      <th>IV01</th>\n",
       "      <th>IV02</th>\n",
       "      <th>IV03</th>\n",
       "      <th>IV04</th>\n",
       "      <th>IV05</th>\n",
       "      <th>IV06</th>\n",
       "      <th>...</th>\n",
       "      <th>IV16</th>\n",
       "      <th>IV17</th>\n",
       "      <th>IV18</th>\n",
       "      <th>IV19</th>\n",
       "      <th>IV20</th>\n",
       "      <th>IV21</th>\n",
       "      <th>IV22</th>\n",
       "      <th>IV23</th>\n",
       "      <th>IV24</th>\n",
       "      <th>Power</th>\n",
       "    </tr>\n",
       "  </thead>\n",
       "  <tbody>\n",
       "    <tr>\n",
       "      <th>0</th>\n",
       "      <td>2009-01-02</td>\n",
       "      <td>1</td>\n",
       "      <td>2</td>\n",
       "      <td>5</td>\n",
       "      <td>0.5</td>\n",
       "      <td>0.866025</td>\n",
       "      <td>0.394356</td>\n",
       "      <td>0.918958</td>\n",
       "      <td>-0.433884</td>\n",
       "      <td>-0.900969</td>\n",
       "      <td>...</td>\n",
       "      <td>0.0</td>\n",
       "      <td>0</td>\n",
       "      <td>0.0</td>\n",
       "      <td>0</td>\n",
       "      <td>0.0</td>\n",
       "      <td>0</td>\n",
       "      <td>0.0</td>\n",
       "      <td>0</td>\n",
       "      <td>0.0</td>\n",
       "      <td>45.5</td>\n",
       "    </tr>\n",
       "    <tr>\n",
       "      <th>1</th>\n",
       "      <td>2009-01-03</td>\n",
       "      <td>1</td>\n",
       "      <td>3</td>\n",
       "      <td>6</td>\n",
       "      <td>0.5</td>\n",
       "      <td>0.866025</td>\n",
       "      <td>0.571268</td>\n",
       "      <td>0.820763</td>\n",
       "      <td>-0.974928</td>\n",
       "      <td>-0.222521</td>\n",
       "      <td>...</td>\n",
       "      <td>0.0</td>\n",
       "      <td>0</td>\n",
       "      <td>0.0</td>\n",
       "      <td>0</td>\n",
       "      <td>0.0</td>\n",
       "      <td>0</td>\n",
       "      <td>0.0</td>\n",
       "      <td>0</td>\n",
       "      <td>45.5</td>\n",
       "      <td>70.9</td>\n",
       "    </tr>\n",
       "    <tr>\n",
       "      <th>2</th>\n",
       "      <td>2009-01-04</td>\n",
       "      <td>1</td>\n",
       "      <td>4</td>\n",
       "      <td>7</td>\n",
       "      <td>0.5</td>\n",
       "      <td>0.866025</td>\n",
       "      <td>0.724793</td>\n",
       "      <td>0.688967</td>\n",
       "      <td>-0.781831</td>\n",
       "      <td>0.623490</td>\n",
       "      <td>...</td>\n",
       "      <td>0.0</td>\n",
       "      <td>0</td>\n",
       "      <td>0.0</td>\n",
       "      <td>0</td>\n",
       "      <td>0.0</td>\n",
       "      <td>0</td>\n",
       "      <td>45.5</td>\n",
       "      <td>1</td>\n",
       "      <td>70.9</td>\n",
       "      <td>73.2</td>\n",
       "    </tr>\n",
       "    <tr>\n",
       "      <th>3</th>\n",
       "      <td>2009-01-05</td>\n",
       "      <td>1</td>\n",
       "      <td>5</td>\n",
       "      <td>1</td>\n",
       "      <td>0.5</td>\n",
       "      <td>0.866025</td>\n",
       "      <td>0.848644</td>\n",
       "      <td>0.528964</td>\n",
       "      <td>0.000000</td>\n",
       "      <td>1.000000</td>\n",
       "      <td>...</td>\n",
       "      <td>0.0</td>\n",
       "      <td>0</td>\n",
       "      <td>0.0</td>\n",
       "      <td>0</td>\n",
       "      <td>45.5</td>\n",
       "      <td>1</td>\n",
       "      <td>70.9</td>\n",
       "      <td>1</td>\n",
       "      <td>73.2</td>\n",
       "      <td>71.6</td>\n",
       "    </tr>\n",
       "    <tr>\n",
       "      <th>4</th>\n",
       "      <td>2009-01-06</td>\n",
       "      <td>1</td>\n",
       "      <td>6</td>\n",
       "      <td>2</td>\n",
       "      <td>0.5</td>\n",
       "      <td>0.866025</td>\n",
       "      <td>0.937752</td>\n",
       "      <td>0.347305</td>\n",
       "      <td>0.781831</td>\n",
       "      <td>0.623490</td>\n",
       "      <td>...</td>\n",
       "      <td>0.0</td>\n",
       "      <td>0</td>\n",
       "      <td>45.5</td>\n",
       "      <td>1</td>\n",
       "      <td>70.9</td>\n",
       "      <td>1</td>\n",
       "      <td>73.2</td>\n",
       "      <td>0</td>\n",
       "      <td>71.6</td>\n",
       "      <td>58.6</td>\n",
       "    </tr>\n",
       "  </tbody>\n",
       "</table>\n",
       "<p>5 rows × 29 columns</p>\n",
       "</div>"
      ],
      "text/plain": [
       "         Date  Month  Day  Weekday  IV01      IV02      IV03      IV04  \\\n",
       "0  2009-01-02      1    2        5   0.5  0.866025  0.394356  0.918958   \n",
       "1  2009-01-03      1    3        6   0.5  0.866025  0.571268  0.820763   \n",
       "2  2009-01-04      1    4        7   0.5  0.866025  0.724793  0.688967   \n",
       "3  2009-01-05      1    5        1   0.5  0.866025  0.848644  0.528964   \n",
       "4  2009-01-06      1    6        2   0.5  0.866025  0.937752  0.347305   \n",
       "\n",
       "       IV05      IV06  ...  IV16  IV17  IV18  IV19  IV20  IV21  IV22  IV23  \\\n",
       "0 -0.433884 -0.900969  ...   0.0     0   0.0     0   0.0     0   0.0     0   \n",
       "1 -0.974928 -0.222521  ...   0.0     0   0.0     0   0.0     0   0.0     0   \n",
       "2 -0.781831  0.623490  ...   0.0     0   0.0     0   0.0     0  45.5     1   \n",
       "3  0.000000  1.000000  ...   0.0     0   0.0     0  45.5     1  70.9     1   \n",
       "4  0.781831  0.623490  ...   0.0     0  45.5     1  70.9     1  73.2     0   \n",
       "\n",
       "   IV24  Power  \n",
       "0   0.0   45.5  \n",
       "1  45.5   70.9  \n",
       "2  70.9   73.2  \n",
       "3  73.2   71.6  \n",
       "4  71.6   58.6  \n",
       "\n",
       "[5 rows x 29 columns]"
      ]
     },
     "execution_count": 2,
     "metadata": {},
     "output_type": "execute_result"
    }
   ],
   "source": [
    "# 평가지표 MAPE 확인용 함수 생성 \n",
    "def mean_absolute_percentage_error(y_true, y_pred):\n",
    "    y_true, y_pred= np.array(y_true), np.array(y_pred)\n",
    "    return np.mean(np.abs((y_true-y_pred) / y_true)) * 100\n",
    "\n",
    "# 데이터 불러오기\n",
    "data = pd.read_csv(\"Assignment Material.csv\")\n",
    "data.head()"
   ]
  },
  {
   "cell_type": "markdown",
   "metadata": {},
   "source": [
    "# 시각화"
   ]
  },
  {
   "cell_type": "code",
   "execution_count": 4,
   "metadata": {},
   "outputs": [],
   "source": [
    "train_data= data.iloc[7:729, :]\n",
    "test_data= data.iloc[729:, :]# 2011년"
   ]
  },
  {
   "cell_type": "code",
   "execution_count": 5,
   "metadata": {},
   "outputs": [
    {
     "data": {
      "text/html": [
       "<div>\n",
       "<style scoped>\n",
       "    .dataframe tbody tr th:only-of-type {\n",
       "        vertical-align: middle;\n",
       "    }\n",
       "\n",
       "    .dataframe tbody tr th {\n",
       "        vertical-align: top;\n",
       "    }\n",
       "\n",
       "    .dataframe thead th {\n",
       "        text-align: right;\n",
       "    }\n",
       "</style>\n",
       "<table border=\"1\" class=\"dataframe\">\n",
       "  <thead>\n",
       "    <tr style=\"text-align: right;\">\n",
       "      <th></th>\n",
       "      <th>Date</th>\n",
       "      <th>Month</th>\n",
       "      <th>Day</th>\n",
       "      <th>Weekday</th>\n",
       "      <th>IV01</th>\n",
       "      <th>IV02</th>\n",
       "      <th>IV03</th>\n",
       "      <th>IV04</th>\n",
       "      <th>IV05</th>\n",
       "      <th>IV06</th>\n",
       "      <th>...</th>\n",
       "      <th>IV16</th>\n",
       "      <th>IV17</th>\n",
       "      <th>IV18</th>\n",
       "      <th>IV19</th>\n",
       "      <th>IV20</th>\n",
       "      <th>IV21</th>\n",
       "      <th>IV22</th>\n",
       "      <th>IV23</th>\n",
       "      <th>IV24</th>\n",
       "      <th>Power</th>\n",
       "    </tr>\n",
       "  </thead>\n",
       "  <tbody>\n",
       "    <tr>\n",
       "      <th>7</th>\n",
       "      <td>2009-01-09</td>\n",
       "      <td>1</td>\n",
       "      <td>9</td>\n",
       "      <td>5</td>\n",
       "      <td>0.5</td>\n",
       "      <td>0.866025</td>\n",
       "      <td>0.968077</td>\n",
       "      <td>-0.250653</td>\n",
       "      <td>-0.433884</td>\n",
       "      <td>-0.900969</td>\n",
       "      <td>...</td>\n",
       "      <td>73.2</td>\n",
       "      <td>0</td>\n",
       "      <td>71.6</td>\n",
       "      <td>0</td>\n",
       "      <td>58.6</td>\n",
       "      <td>0</td>\n",
       "      <td>53.7</td>\n",
       "      <td>0</td>\n",
       "      <td>56.2</td>\n",
       "      <td>54.1</td>\n",
       "    </tr>\n",
       "    <tr>\n",
       "      <th>8</th>\n",
       "      <td>2009-01-10</td>\n",
       "      <td>1</td>\n",
       "      <td>10</td>\n",
       "      <td>6</td>\n",
       "      <td>0.5</td>\n",
       "      <td>0.866025</td>\n",
       "      <td>0.897805</td>\n",
       "      <td>-0.440394</td>\n",
       "      <td>-0.974928</td>\n",
       "      <td>-0.222521</td>\n",
       "      <td>...</td>\n",
       "      <td>71.6</td>\n",
       "      <td>0</td>\n",
       "      <td>58.6</td>\n",
       "      <td>0</td>\n",
       "      <td>53.7</td>\n",
       "      <td>0</td>\n",
       "      <td>56.2</td>\n",
       "      <td>0</td>\n",
       "      <td>54.1</td>\n",
       "      <td>38.5</td>\n",
       "    </tr>\n",
       "    <tr>\n",
       "      <th>9</th>\n",
       "      <td>2009-01-11</td>\n",
       "      <td>1</td>\n",
       "      <td>11</td>\n",
       "      <td>7</td>\n",
       "      <td>0.5</td>\n",
       "      <td>0.866025</td>\n",
       "      <td>0.790776</td>\n",
       "      <td>-0.612106</td>\n",
       "      <td>-0.781831</td>\n",
       "      <td>0.623490</td>\n",
       "      <td>...</td>\n",
       "      <td>58.6</td>\n",
       "      <td>0</td>\n",
       "      <td>53.7</td>\n",
       "      <td>0</td>\n",
       "      <td>56.2</td>\n",
       "      <td>0</td>\n",
       "      <td>54.1</td>\n",
       "      <td>1</td>\n",
       "      <td>38.5</td>\n",
       "      <td>39.2</td>\n",
       "    </tr>\n",
       "    <tr>\n",
       "      <th>10</th>\n",
       "      <td>2009-01-12</td>\n",
       "      <td>1</td>\n",
       "      <td>12</td>\n",
       "      <td>1</td>\n",
       "      <td>0.5</td>\n",
       "      <td>0.866025</td>\n",
       "      <td>0.651372</td>\n",
       "      <td>-0.758758</td>\n",
       "      <td>0.000000</td>\n",
       "      <td>1.000000</td>\n",
       "      <td>...</td>\n",
       "      <td>53.7</td>\n",
       "      <td>0</td>\n",
       "      <td>56.2</td>\n",
       "      <td>0</td>\n",
       "      <td>54.1</td>\n",
       "      <td>1</td>\n",
       "      <td>38.5</td>\n",
       "      <td>1</td>\n",
       "      <td>39.2</td>\n",
       "      <td>55.4</td>\n",
       "    </tr>\n",
       "    <tr>\n",
       "      <th>11</th>\n",
       "      <td>2009-01-13</td>\n",
       "      <td>1</td>\n",
       "      <td>13</td>\n",
       "      <td>2</td>\n",
       "      <td>0.5</td>\n",
       "      <td>0.866025</td>\n",
       "      <td>0.485302</td>\n",
       "      <td>-0.874347</td>\n",
       "      <td>0.781831</td>\n",
       "      <td>0.623490</td>\n",
       "      <td>...</td>\n",
       "      <td>56.2</td>\n",
       "      <td>0</td>\n",
       "      <td>54.1</td>\n",
       "      <td>1</td>\n",
       "      <td>38.5</td>\n",
       "      <td>1</td>\n",
       "      <td>39.2</td>\n",
       "      <td>0</td>\n",
       "      <td>55.4</td>\n",
       "      <td>52.8</td>\n",
       "    </tr>\n",
       "  </tbody>\n",
       "</table>\n",
       "<p>5 rows × 29 columns</p>\n",
       "</div>"
      ],
      "text/plain": [
       "          Date  Month  Day  Weekday  IV01      IV02      IV03      IV04  \\\n",
       "7   2009-01-09      1    9        5   0.5  0.866025  0.968077 -0.250653   \n",
       "8   2009-01-10      1   10        6   0.5  0.866025  0.897805 -0.440394   \n",
       "9   2009-01-11      1   11        7   0.5  0.866025  0.790776 -0.612106   \n",
       "10  2009-01-12      1   12        1   0.5  0.866025  0.651372 -0.758758   \n",
       "11  2009-01-13      1   13        2   0.5  0.866025  0.485302 -0.874347   \n",
       "\n",
       "        IV05      IV06  ...  IV16  IV17  IV18  IV19  IV20  IV21  IV22  IV23  \\\n",
       "7  -0.433884 -0.900969  ...  73.2     0  71.6     0  58.6     0  53.7     0   \n",
       "8  -0.974928 -0.222521  ...  71.6     0  58.6     0  53.7     0  56.2     0   \n",
       "9  -0.781831  0.623490  ...  58.6     0  53.7     0  56.2     0  54.1     1   \n",
       "10  0.000000  1.000000  ...  53.7     0  56.2     0  54.1     1  38.5     1   \n",
       "11  0.781831  0.623490  ...  56.2     0  54.1     1  38.5     1  39.2     0   \n",
       "\n",
       "    IV24  Power  \n",
       "7   56.2   54.1  \n",
       "8   54.1   38.5  \n",
       "9   38.5   39.2  \n",
       "10  39.2   55.4  \n",
       "11  55.4   52.8  \n",
       "\n",
       "[5 rows x 29 columns]"
      ]
     },
     "execution_count": 5,
     "metadata": {},
     "output_type": "execute_result"
    }
   ],
   "source": [
    "train_data.head()"
   ]
  },
  {
   "cell_type": "code",
   "execution_count": 6,
   "metadata": {},
   "outputs": [
    {
     "data": {
      "image/png": "[encoded data removed]",
      "text/plain": [
       "<Figure size 1800x600 with 1 Axes>"
      ]
     },
     "metadata": {},
     "output_type": "display_data"
    }
   ],
   "source": [
    "# Time series plot\n",
    "# ==============================================================================\n",
    "fig, ax = plt.subplots(figsize=(18, 6))\n",
    "train_data.Power.plot(ax=ax, label='train', linewidth=1)\n",
    "test_data.Power.plot(ax=ax, label='test', linewidth=1)\n",
    "ax.set_title('Electricity demand')\n",
    "ax.legend();"
   ]
  },
  {
   "cell_type": "code",
   "execution_count": 7,
   "metadata": {},
   "outputs": [
    {
     "data": {
      "image/png": "[encoded data removed]",
      "text/plain": [
       "<Figure size 1000x500 with 1 Axes>"
      ]
     },
     "metadata": {},
     "output_type": "display_data"
    }
   ],
   "source": [
    "# Boxplot for annual seasonality\n",
    "# ==============================================================================\n",
    "fig, ax = plt.subplots(figsize=(10, 5))\n",
    "data.boxplot(column='Power', by='Month', ax=ax,)\n",
    "data.groupby('Month')['Power'].median().plot(style='o-', linewidth=0.8, ax=ax)\n",
    "ax.set_ylabel('Power')\n",
    "ax.set_title('Power distribution by Month')\n",
    "fig.suptitle('');"
   ]
  },
  {
   "cell_type": "code",
   "execution_count": 8,
   "metadata": {},
   "outputs": [
    {
     "data": {
      "image/png": "[encoded data removed]",
      "text/plain": [
       "<Figure size 1000x500 with 1 Axes>"
      ]
     },
     "metadata": {},
     "output_type": "display_data"
    }
   ],
   "source": [
    "# Boxplot for weekly seasonality\n",
    "# ==============================================================================\n",
    "fig, ax = plt.subplots(figsize=(10, 5))\n",
    "data.boxplot(column='Power', by='Weekday', ax=ax)\n",
    "data.groupby('Weekday')['Power'].median().plot(style='o-', linewidth=0.8, ax=ax)\n",
    "ax.set_ylabel('Power')\n",
    "ax.set_title('Power distribution by week day')\n",
    "fig.suptitle('');"
   ]
  },
  {
   "cell_type": "code",
   "execution_count": 9,
   "metadata": {},
   "outputs": [
    {
     "data": {
      "image/png": "[encoded data removed]",
      "text/plain": [
       "<Figure size 800x400 with 1 Axes>"
      ]
     },
     "metadata": {},
     "output_type": "display_data"
    }
   ],
   "source": [
    "# Autocorrelation plot\n",
    "# ==============================================================================\n",
    "fig, ax = plt.subplots(figsize=(8, 4))\n",
    "plot_acf(data.Power, ax=ax, lags=60)\n",
    "plt.show()"
   ]
  },
  {
   "cell_type": "code",
   "execution_count": 10,
   "metadata": {},
   "outputs": [
    {
     "data": {
      "image/png": "[encoded data removed]",
      "text/plain": [
       "<Figure size 800x400 with 1 Axes>"
      ]
     },
     "metadata": {},
     "output_type": "display_data"
    }
   ],
   "source": [
    "# Partial autocorrelation plot\n",
    "# ==============================================================================\n",
    "fig, ax = plt.subplots(figsize=(8, 4))\n",
    "plot_pacf(data.Power, ax=ax, lags=60)\n",
    "plt.show()"
   ]
  },
  {
   "cell_type": "markdown",
   "metadata": {},
   "source": [
    "# 파생 feature 추가"
   ]
  },
  {
   "cell_type": "code",
   "execution_count": 11,
   "metadata": {},
   "outputs": [],
   "source": [
    "train_data= data.iloc[7:729, :]\n",
    "test_data= data.iloc[729:, :]# 2011년"
   ]
  },
  {
   "cell_type": "code",
   "execution_count": 12,
   "metadata": {},
   "outputs": [
    {
     "data": {
      "text/plain": [
       "\" ## 주별 발전량 평균 넣어주기\\npower_Weekday_mean = pd.pivot_table(data, values = 'Power', index = ['Weekday'], aggfunc = np.mean).reset_index()\\ntqdm.pandas()\\ndata['Weekday_mean'] = data.progress_apply(lambda x : power_Weekday_mean.loc[(power_Weekday_mean.Weekday == x['Weekday']) ,'Power'].values[0], axis = 1)\\n\\n## 주별 발전량 표준편차 넣어주기\\npower_Weekday_std = pd.pivot_table(data, values = 'Power', index = ['Weekday'], aggfunc = np.std).reset_index()\\ntqdm.pandas()\\ndata['Weekday_std'] = data.progress_apply(lambda x : power_Weekday_std.loc[(power_Weekday_std.Weekday == x['Weekday']) ,'Power'].values[0], axis = 1)\\n\\n## 월별 발전량 평균 넣어주기\\npower_Month_mean = pd.pivot_table(data, values = 'Power', index = ['Month'], aggfunc = np.mean).reset_index()\\ntqdm.pandas()\\ndata['Month_mean'] = data.progress_apply(lambda x : power_Month_mean.loc[(power_Month_mean.Month == x['Month']) ,'Power'].values[0], axis = 1)\\n\\n## 월별 발전량 표준편차 넣어주기\\npower_Month_std = pd.pivot_table(data, values = 'Power', index = ['Month'], aggfunc = np.std).reset_index()\\ntqdm.pandas()\\ndata['Month_std'] = data.progress_apply(lambda x : power_Month_std.loc[(power_Month_std.Month == x['Month']) ,'Power'].values[0], axis = 1) \""
      ]
     },
     "execution_count": 12,
     "metadata": {},
     "output_type": "execute_result"
    }
   ],
   "source": [
    "\"\"\" ## 주별 발전량 평균 넣어주기\n",
    "power_Weekday_mean = pd.pivot_table(data, values = 'Power', index = ['Weekday'], aggfunc = np.mean).reset_index()\n",
    "tqdm.pandas()\n",
    "data['Weekday_mean'] = data.progress_apply(lambda x : power_Weekday_mean.loc[(power_Weekday_mean.Weekday == x['Weekday']) ,'Power'].values[0], axis = 1)\n",
    "\n",
    "## 주별 발전량 표준편차 넣어주기\n",
    "power_Weekday_std = pd.pivot_table(data, values = 'Power', index = ['Weekday'], aggfunc = np.std).reset_index()\n",
    "tqdm.pandas()\n",
    "data['Weekday_std'] = data.progress_apply(lambda x : power_Weekday_std.loc[(power_Weekday_std.Weekday == x['Weekday']) ,'Power'].values[0], axis = 1)\n",
    "\n",
    "## 월별 발전량 평균 넣어주기\n",
    "power_Month_mean = pd.pivot_table(data, values = 'Power', index = ['Month'], aggfunc = np.mean).reset_index()\n",
    "tqdm.pandas()\n",
    "data['Month_mean'] = data.progress_apply(lambda x : power_Month_mean.loc[(power_Month_mean.Month == x['Month']) ,'Power'].values[0], axis = 1)\n",
    "\n",
    "## 월별 발전량 표준편차 넣어주기\n",
    "power_Month_std = pd.pivot_table(data, values = 'Power', index = ['Month'], aggfunc = np.std).reset_index()\n",
    "tqdm.pandas()\n",
    "data['Month_std'] = data.progress_apply(lambda x : power_Month_std.loc[(power_Month_std.Month == x['Month']) ,'Power'].values[0], axis = 1) \"\"\""
   ]
  },
  {
   "cell_type": "code",
   "execution_count": 13,
   "metadata": {},
   "outputs": [
    {
     "data": {
      "text/plain": [
       "\" ## 시간의 순환성을 고려해준 컬럼 추가\\ndata['sin_Weekday'] = np.sin(2*np.pi*data.Weekday/7)\\ndata['cos_Weekday'] = np.cos(2*np.pi*data.Weekday/7)\\n\\ndata['sin_Month'] = np.sin(2*np.pi*data.Month/30)\\ndata['cos_Month'] = np.cos(2*np.pi*data.Month/30) \""
      ]
     },
     "execution_count": 13,
     "metadata": {},
     "output_type": "execute_result"
    }
   ],
   "source": [
    "\"\"\" ## 시간의 순환성을 고려해준 컬럼 추가\n",
    "data['sin_Weekday'] = np.sin(2*np.pi*data.Weekday/7)\n",
    "data['cos_Weekday'] = np.cos(2*np.pi*data.Weekday/7)\n",
    "\n",
    "data['sin_Month'] = np.sin(2*np.pi*data.Month/30)\n",
    "data['cos_Month'] = np.cos(2*np.pi*data.Month/30) \"\"\""
   ]
  },
  {
   "cell_type": "code",
   "execution_count": 14,
   "metadata": {},
   "outputs": [
    {
     "data": {
      "text/html": [
       "<div>\n",
       "<style scoped>\n",
       "    .dataframe tbody tr th:only-of-type {\n",
       "        vertical-align: middle;\n",
       "    }\n",
       "\n",
       "    .dataframe tbody tr th {\n",
       "        vertical-align: top;\n",
       "    }\n",
       "\n",
       "    .dataframe thead th {\n",
       "        text-align: right;\n",
       "    }\n",
       "</style>\n",
       "<table border=\"1\" class=\"dataframe\">\n",
       "  <thead>\n",
       "    <tr style=\"text-align: right;\">\n",
       "      <th></th>\n",
       "      <th>Date</th>\n",
       "      <th>Month</th>\n",
       "      <th>Day</th>\n",
       "      <th>Weekday</th>\n",
       "      <th>IV01</th>\n",
       "      <th>IV02</th>\n",
       "      <th>IV03</th>\n",
       "      <th>IV04</th>\n",
       "      <th>IV05</th>\n",
       "      <th>IV06</th>\n",
       "      <th>...</th>\n",
       "      <th>IV16</th>\n",
       "      <th>IV17</th>\n",
       "      <th>IV18</th>\n",
       "      <th>IV19</th>\n",
       "      <th>IV20</th>\n",
       "      <th>IV21</th>\n",
       "      <th>IV22</th>\n",
       "      <th>IV23</th>\n",
       "      <th>IV24</th>\n",
       "      <th>Power</th>\n",
       "    </tr>\n",
       "  </thead>\n",
       "  <tbody>\n",
       "    <tr>\n",
       "      <th>729</th>\n",
       "      <td>2011-01-01</td>\n",
       "      <td>1</td>\n",
       "      <td>1</td>\n",
       "      <td>6</td>\n",
       "      <td>0.5</td>\n",
       "      <td>0.866025</td>\n",
       "      <td>0.201299</td>\n",
       "      <td>0.979530</td>\n",
       "      <td>-0.974928</td>\n",
       "      <td>-0.222521</td>\n",
       "      <td>...</td>\n",
       "      <td>69.72</td>\n",
       "      <td>0</td>\n",
       "      <td>48.75</td>\n",
       "      <td>0</td>\n",
       "      <td>63.28</td>\n",
       "      <td>0</td>\n",
       "      <td>64.86</td>\n",
       "      <td>1</td>\n",
       "      <td>49.07</td>\n",
       "      <td>54.7</td>\n",
       "    </tr>\n",
       "    <tr>\n",
       "      <th>730</th>\n",
       "      <td>2011-01-02</td>\n",
       "      <td>1</td>\n",
       "      <td>2</td>\n",
       "      <td>7</td>\n",
       "      <td>0.5</td>\n",
       "      <td>0.866025</td>\n",
       "      <td>0.394356</td>\n",
       "      <td>0.918958</td>\n",
       "      <td>-0.781831</td>\n",
       "      <td>0.623490</td>\n",
       "      <td>...</td>\n",
       "      <td>48.75</td>\n",
       "      <td>0</td>\n",
       "      <td>63.28</td>\n",
       "      <td>0</td>\n",
       "      <td>64.86</td>\n",
       "      <td>1</td>\n",
       "      <td>49.07</td>\n",
       "      <td>1</td>\n",
       "      <td>54.70</td>\n",
       "      <td>50.2</td>\n",
       "    </tr>\n",
       "    <tr>\n",
       "      <th>731</th>\n",
       "      <td>2011-01-03</td>\n",
       "      <td>1</td>\n",
       "      <td>3</td>\n",
       "      <td>1</td>\n",
       "      <td>0.5</td>\n",
       "      <td>0.866025</td>\n",
       "      <td>0.571268</td>\n",
       "      <td>0.820763</td>\n",
       "      <td>0.000000</td>\n",
       "      <td>1.000000</td>\n",
       "      <td>...</td>\n",
       "      <td>63.28</td>\n",
       "      <td>0</td>\n",
       "      <td>64.86</td>\n",
       "      <td>1</td>\n",
       "      <td>49.07</td>\n",
       "      <td>1</td>\n",
       "      <td>54.70</td>\n",
       "      <td>1</td>\n",
       "      <td>50.20</td>\n",
       "      <td>97.7</td>\n",
       "    </tr>\n",
       "    <tr>\n",
       "      <th>732</th>\n",
       "      <td>2011-01-04</td>\n",
       "      <td>1</td>\n",
       "      <td>4</td>\n",
       "      <td>2</td>\n",
       "      <td>0.5</td>\n",
       "      <td>0.866025</td>\n",
       "      <td>0.724793</td>\n",
       "      <td>0.688967</td>\n",
       "      <td>0.781831</td>\n",
       "      <td>0.623490</td>\n",
       "      <td>...</td>\n",
       "      <td>64.86</td>\n",
       "      <td>1</td>\n",
       "      <td>49.07</td>\n",
       "      <td>1</td>\n",
       "      <td>54.70</td>\n",
       "      <td>1</td>\n",
       "      <td>50.20</td>\n",
       "      <td>0</td>\n",
       "      <td>97.70</td>\n",
       "      <td>88.5</td>\n",
       "    </tr>\n",
       "    <tr>\n",
       "      <th>733</th>\n",
       "      <td>2011-01-05</td>\n",
       "      <td>1</td>\n",
       "      <td>5</td>\n",
       "      <td>3</td>\n",
       "      <td>0.5</td>\n",
       "      <td>0.866025</td>\n",
       "      <td>0.848644</td>\n",
       "      <td>0.528964</td>\n",
       "      <td>0.974928</td>\n",
       "      <td>-0.222521</td>\n",
       "      <td>...</td>\n",
       "      <td>49.07</td>\n",
       "      <td>1</td>\n",
       "      <td>54.70</td>\n",
       "      <td>1</td>\n",
       "      <td>50.20</td>\n",
       "      <td>0</td>\n",
       "      <td>97.70</td>\n",
       "      <td>0</td>\n",
       "      <td>88.50</td>\n",
       "      <td>80.9</td>\n",
       "    </tr>\n",
       "  </tbody>\n",
       "</table>\n",
       "<p>5 rows × 29 columns</p>\n",
       "</div>"
      ],
      "text/plain": [
       "           Date  Month  Day  Weekday  IV01      IV02      IV03      IV04  \\\n",
       "729  2011-01-01      1    1        6   0.5  0.866025  0.201299  0.979530   \n",
       "730  2011-01-02      1    2        7   0.5  0.866025  0.394356  0.918958   \n",
       "731  2011-01-03      1    3        1   0.5  0.866025  0.571268  0.820763   \n",
       "732  2011-01-04      1    4        2   0.5  0.866025  0.724793  0.688967   \n",
       "733  2011-01-05      1    5        3   0.5  0.866025  0.848644  0.528964   \n",
       "\n",
       "         IV05      IV06  ...   IV16  IV17   IV18  IV19   IV20  IV21   IV22  \\\n",
       "729 -0.974928 -0.222521  ...  69.72     0  48.75     0  63.28     0  64.86   \n",
       "730 -0.781831  0.623490  ...  48.75     0  63.28     0  64.86     1  49.07   \n",
       "731  0.000000  1.000000  ...  63.28     0  64.86     1  49.07     1  54.70   \n",
       "732  0.781831  0.623490  ...  64.86     1  49.07     1  54.70     1  50.20   \n",
       "733  0.974928 -0.222521  ...  49.07     1  54.70     1  50.20     0  97.70   \n",
       "\n",
       "     IV23   IV24  Power  \n",
       "729     1  49.07   54.7  \n",
       "730     1  54.70   50.2  \n",
       "731     1  50.20   97.7  \n",
       "732     0  97.70   88.5  \n",
       "733     0  88.50   80.9  \n",
       "\n",
       "[5 rows x 29 columns]"
      ]
     },
     "execution_count": 14,
     "metadata": {},
     "output_type": "execute_result"
    }
   ],
   "source": [
    "train_data= data.iloc[7:729, 0:52]# 2009년부터2010년까지\n",
    "train_data.head(5)\n",
    "\n",
    "test_data= data.iloc[729:, 0:52]# 2011년\n",
    "test_data.head(5)"
   ]
  },
  {
   "cell_type": "code",
   "execution_count": 15,
   "metadata": {},
   "outputs": [
    {
     "data": {
      "text/html": [
       "<div>\n",
       "<style scoped>\n",
       "    .dataframe tbody tr th:only-of-type {\n",
       "        vertical-align: middle;\n",
       "    }\n",
       "\n",
       "    .dataframe tbody tr th {\n",
       "        vertical-align: top;\n",
       "    }\n",
       "\n",
       "    .dataframe thead th {\n",
       "        text-align: right;\n",
       "    }\n",
       "</style>\n",
       "<table border=\"1\" class=\"dataframe\">\n",
       "  <thead>\n",
       "    <tr style=\"text-align: right;\">\n",
       "      <th></th>\n",
       "      <th>Date</th>\n",
       "      <th>Month</th>\n",
       "      <th>Day</th>\n",
       "      <th>Weekday</th>\n",
       "      <th>IV01</th>\n",
       "      <th>IV02</th>\n",
       "      <th>IV03</th>\n",
       "      <th>IV04</th>\n",
       "      <th>IV05</th>\n",
       "      <th>IV06</th>\n",
       "      <th>...</th>\n",
       "      <th>IV16</th>\n",
       "      <th>IV17</th>\n",
       "      <th>IV18</th>\n",
       "      <th>IV19</th>\n",
       "      <th>IV20</th>\n",
       "      <th>IV21</th>\n",
       "      <th>IV22</th>\n",
       "      <th>IV23</th>\n",
       "      <th>IV24</th>\n",
       "      <th>Power</th>\n",
       "    </tr>\n",
       "  </thead>\n",
       "  <tbody>\n",
       "    <tr>\n",
       "      <th>0</th>\n",
       "      <td>2009-01-02</td>\n",
       "      <td>1</td>\n",
       "      <td>2</td>\n",
       "      <td>5</td>\n",
       "      <td>0.5</td>\n",
       "      <td>0.866025</td>\n",
       "      <td>0.394356</td>\n",
       "      <td>0.918958</td>\n",
       "      <td>-0.433884</td>\n",
       "      <td>-0.900969</td>\n",
       "      <td>...</td>\n",
       "      <td>0.0</td>\n",
       "      <td>0</td>\n",
       "      <td>0.0</td>\n",
       "      <td>0</td>\n",
       "      <td>0.0</td>\n",
       "      <td>0</td>\n",
       "      <td>0.0</td>\n",
       "      <td>0</td>\n",
       "      <td>0.0</td>\n",
       "      <td>45.5</td>\n",
       "    </tr>\n",
       "    <tr>\n",
       "      <th>1</th>\n",
       "      <td>2009-01-03</td>\n",
       "      <td>1</td>\n",
       "      <td>3</td>\n",
       "      <td>6</td>\n",
       "      <td>0.5</td>\n",
       "      <td>0.866025</td>\n",
       "      <td>0.571268</td>\n",
       "      <td>0.820763</td>\n",
       "      <td>-0.974928</td>\n",
       "      <td>-0.222521</td>\n",
       "      <td>...</td>\n",
       "      <td>0.0</td>\n",
       "      <td>0</td>\n",
       "      <td>0.0</td>\n",
       "      <td>0</td>\n",
       "      <td>0.0</td>\n",
       "      <td>0</td>\n",
       "      <td>0.0</td>\n",
       "      <td>0</td>\n",
       "      <td>45.5</td>\n",
       "      <td>70.9</td>\n",
       "    </tr>\n",
       "    <tr>\n",
       "      <th>2</th>\n",
       "      <td>2009-01-04</td>\n",
       "      <td>1</td>\n",
       "      <td>4</td>\n",
       "      <td>7</td>\n",
       "      <td>0.5</td>\n",
       "      <td>0.866025</td>\n",
       "      <td>0.724793</td>\n",
       "      <td>0.688967</td>\n",
       "      <td>-0.781831</td>\n",
       "      <td>0.623490</td>\n",
       "      <td>...</td>\n",
       "      <td>0.0</td>\n",
       "      <td>0</td>\n",
       "      <td>0.0</td>\n",
       "      <td>0</td>\n",
       "      <td>0.0</td>\n",
       "      <td>0</td>\n",
       "      <td>45.5</td>\n",
       "      <td>1</td>\n",
       "      <td>70.9</td>\n",
       "      <td>73.2</td>\n",
       "    </tr>\n",
       "    <tr>\n",
       "      <th>3</th>\n",
       "      <td>2009-01-05</td>\n",
       "      <td>1</td>\n",
       "      <td>5</td>\n",
       "      <td>1</td>\n",
       "      <td>0.5</td>\n",
       "      <td>0.866025</td>\n",
       "      <td>0.848644</td>\n",
       "      <td>0.528964</td>\n",
       "      <td>0.000000</td>\n",
       "      <td>1.000000</td>\n",
       "      <td>...</td>\n",
       "      <td>0.0</td>\n",
       "      <td>0</td>\n",
       "      <td>0.0</td>\n",
       "      <td>0</td>\n",
       "      <td>45.5</td>\n",
       "      <td>1</td>\n",
       "      <td>70.9</td>\n",
       "      <td>1</td>\n",
       "      <td>73.2</td>\n",
       "      <td>71.6</td>\n",
       "    </tr>\n",
       "    <tr>\n",
       "      <th>4</th>\n",
       "      <td>2009-01-06</td>\n",
       "      <td>1</td>\n",
       "      <td>6</td>\n",
       "      <td>2</td>\n",
       "      <td>0.5</td>\n",
       "      <td>0.866025</td>\n",
       "      <td>0.937752</td>\n",
       "      <td>0.347305</td>\n",
       "      <td>0.781831</td>\n",
       "      <td>0.623490</td>\n",
       "      <td>...</td>\n",
       "      <td>0.0</td>\n",
       "      <td>0</td>\n",
       "      <td>45.5</td>\n",
       "      <td>1</td>\n",
       "      <td>70.9</td>\n",
       "      <td>1</td>\n",
       "      <td>73.2</td>\n",
       "      <td>0</td>\n",
       "      <td>71.6</td>\n",
       "      <td>58.6</td>\n",
       "    </tr>\n",
       "  </tbody>\n",
       "</table>\n",
       "<p>5 rows × 29 columns</p>\n",
       "</div>"
      ],
      "text/plain": [
       "         Date  Month  Day  Weekday  IV01      IV02      IV03      IV04  \\\n",
       "0  2009-01-02      1    2        5   0.5  0.866025  0.394356  0.918958   \n",
       "1  2009-01-03      1    3        6   0.5  0.866025  0.571268  0.820763   \n",
       "2  2009-01-04      1    4        7   0.5  0.866025  0.724793  0.688967   \n",
       "3  2009-01-05      1    5        1   0.5  0.866025  0.848644  0.528964   \n",
       "4  2009-01-06      1    6        2   0.5  0.866025  0.937752  0.347305   \n",
       "\n",
       "       IV05      IV06  ...  IV16  IV17  IV18  IV19  IV20  IV21  IV22  IV23  \\\n",
       "0 -0.433884 -0.900969  ...   0.0     0   0.0     0   0.0     0   0.0     0   \n",
       "1 -0.974928 -0.222521  ...   0.0     0   0.0     0   0.0     0   0.0     0   \n",
       "2 -0.781831  0.623490  ...   0.0     0   0.0     0   0.0     0  45.5     1   \n",
       "3  0.000000  1.000000  ...   0.0     0   0.0     0  45.5     1  70.9     1   \n",
       "4  0.781831  0.623490  ...   0.0     0  45.5     1  70.9     1  73.2     0   \n",
       "\n",
       "   IV24  Power  \n",
       "0   0.0   45.5  \n",
       "1  45.5   70.9  \n",
       "2  70.9   73.2  \n",
       "3  73.2   71.6  \n",
       "4  71.6   58.6  \n",
       "\n",
       "[5 rows x 29 columns]"
      ]
     },
     "execution_count": 15,
     "metadata": {},
     "output_type": "execute_result"
    }
   ],
   "source": [
    "# 평가지표 MAPE 확인용 함수 생성 \n",
    "def mean_absolute_percentage_error(y_true, y_pred):\n",
    "    y_true, y_pred= np.array(y_true), np.array(y_pred)\n",
    "    return np.mean(np.abs((y_true-y_pred) / y_true)) * 100\n",
    "\n",
    "# 데이터 불러오기\n",
    "data = pd.read_csv(\"Assignment Material.csv\")\n",
    "data.head()"
   ]
  },
  {
   "cell_type": "code",
   "execution_count": 16,
   "metadata": {},
   "outputs": [
    {
     "data": {
      "text/html": [
       "<div>\n",
       "<style scoped>\n",
       "    .dataframe tbody tr th:only-of-type {\n",
       "        vertical-align: middle;\n",
       "    }\n",
       "\n",
       "    .dataframe tbody tr th {\n",
       "        vertical-align: top;\n",
       "    }\n",
       "\n",
       "    .dataframe thead th {\n",
       "        text-align: right;\n",
       "    }\n",
       "</style>\n",
       "<table border=\"1\" class=\"dataframe\">\n",
       "  <thead>\n",
       "    <tr style=\"text-align: right;\">\n",
       "      <th></th>\n",
       "      <th>Date</th>\n",
       "      <th>Month</th>\n",
       "      <th>Day</th>\n",
       "      <th>Weekday</th>\n",
       "      <th>IV01</th>\n",
       "      <th>IV02</th>\n",
       "      <th>IV03</th>\n",
       "      <th>IV04</th>\n",
       "      <th>IV05</th>\n",
       "      <th>IV06</th>\n",
       "      <th>...</th>\n",
       "      <th>IV16</th>\n",
       "      <th>IV17</th>\n",
       "      <th>IV18</th>\n",
       "      <th>IV19</th>\n",
       "      <th>IV20</th>\n",
       "      <th>IV21</th>\n",
       "      <th>IV22</th>\n",
       "      <th>IV23</th>\n",
       "      <th>IV24</th>\n",
       "      <th>Power</th>\n",
       "    </tr>\n",
       "  </thead>\n",
       "  <tbody>\n",
       "    <tr>\n",
       "      <th>729</th>\n",
       "      <td>2011-01-01</td>\n",
       "      <td>1</td>\n",
       "      <td>1</td>\n",
       "      <td>6</td>\n",
       "      <td>0.5</td>\n",
       "      <td>0.866025</td>\n",
       "      <td>0.201299</td>\n",
       "      <td>0.979530</td>\n",
       "      <td>-0.974928</td>\n",
       "      <td>-0.222521</td>\n",
       "      <td>...</td>\n",
       "      <td>69.72</td>\n",
       "      <td>0</td>\n",
       "      <td>48.75</td>\n",
       "      <td>0</td>\n",
       "      <td>63.28</td>\n",
       "      <td>0</td>\n",
       "      <td>64.86</td>\n",
       "      <td>1</td>\n",
       "      <td>49.07</td>\n",
       "      <td>54.7</td>\n",
       "    </tr>\n",
       "    <tr>\n",
       "      <th>730</th>\n",
       "      <td>2011-01-02</td>\n",
       "      <td>1</td>\n",
       "      <td>2</td>\n",
       "      <td>7</td>\n",
       "      <td>0.5</td>\n",
       "      <td>0.866025</td>\n",
       "      <td>0.394356</td>\n",
       "      <td>0.918958</td>\n",
       "      <td>-0.781831</td>\n",
       "      <td>0.623490</td>\n",
       "      <td>...</td>\n",
       "      <td>48.75</td>\n",
       "      <td>0</td>\n",
       "      <td>63.28</td>\n",
       "      <td>0</td>\n",
       "      <td>64.86</td>\n",
       "      <td>1</td>\n",
       "      <td>49.07</td>\n",
       "      <td>1</td>\n",
       "      <td>54.70</td>\n",
       "      <td>50.2</td>\n",
       "    </tr>\n",
       "    <tr>\n",
       "      <th>731</th>\n",
       "      <td>2011-01-03</td>\n",
       "      <td>1</td>\n",
       "      <td>3</td>\n",
       "      <td>1</td>\n",
       "      <td>0.5</td>\n",
       "      <td>0.866025</td>\n",
       "      <td>0.571268</td>\n",
       "      <td>0.820763</td>\n",
       "      <td>0.000000</td>\n",
       "      <td>1.000000</td>\n",
       "      <td>...</td>\n",
       "      <td>63.28</td>\n",
       "      <td>0</td>\n",
       "      <td>64.86</td>\n",
       "      <td>1</td>\n",
       "      <td>49.07</td>\n",
       "      <td>1</td>\n",
       "      <td>54.70</td>\n",
       "      <td>1</td>\n",
       "      <td>50.20</td>\n",
       "      <td>97.7</td>\n",
       "    </tr>\n",
       "    <tr>\n",
       "      <th>732</th>\n",
       "      <td>2011-01-04</td>\n",
       "      <td>1</td>\n",
       "      <td>4</td>\n",
       "      <td>2</td>\n",
       "      <td>0.5</td>\n",
       "      <td>0.866025</td>\n",
       "      <td>0.724793</td>\n",
       "      <td>0.688967</td>\n",
       "      <td>0.781831</td>\n",
       "      <td>0.623490</td>\n",
       "      <td>...</td>\n",
       "      <td>64.86</td>\n",
       "      <td>1</td>\n",
       "      <td>49.07</td>\n",
       "      <td>1</td>\n",
       "      <td>54.70</td>\n",
       "      <td>1</td>\n",
       "      <td>50.20</td>\n",
       "      <td>0</td>\n",
       "      <td>97.70</td>\n",
       "      <td>88.5</td>\n",
       "    </tr>\n",
       "    <tr>\n",
       "      <th>733</th>\n",
       "      <td>2011-01-05</td>\n",
       "      <td>1</td>\n",
       "      <td>5</td>\n",
       "      <td>3</td>\n",
       "      <td>0.5</td>\n",
       "      <td>0.866025</td>\n",
       "      <td>0.848644</td>\n",
       "      <td>0.528964</td>\n",
       "      <td>0.974928</td>\n",
       "      <td>-0.222521</td>\n",
       "      <td>...</td>\n",
       "      <td>49.07</td>\n",
       "      <td>1</td>\n",
       "      <td>54.70</td>\n",
       "      <td>1</td>\n",
       "      <td>50.20</td>\n",
       "      <td>0</td>\n",
       "      <td>97.70</td>\n",
       "      <td>0</td>\n",
       "      <td>88.50</td>\n",
       "      <td>80.9</td>\n",
       "    </tr>\n",
       "  </tbody>\n",
       "</table>\n",
       "<p>5 rows × 29 columns</p>\n",
       "</div>"
      ],
      "text/plain": [
       "           Date  Month  Day  Weekday  IV01      IV02      IV03      IV04  \\\n",
       "729  2011-01-01      1    1        6   0.5  0.866025  0.201299  0.979530   \n",
       "730  2011-01-02      1    2        7   0.5  0.866025  0.394356  0.918958   \n",
       "731  2011-01-03      1    3        1   0.5  0.866025  0.571268  0.820763   \n",
       "732  2011-01-04      1    4        2   0.5  0.866025  0.724793  0.688967   \n",
       "733  2011-01-05      1    5        3   0.5  0.866025  0.848644  0.528964   \n",
       "\n",
       "         IV05      IV06  ...   IV16  IV17   IV18  IV19   IV20  IV21   IV22  \\\n",
       "729 -0.974928 -0.222521  ...  69.72     0  48.75     0  63.28     0  64.86   \n",
       "730 -0.781831  0.623490  ...  48.75     0  63.28     0  64.86     1  49.07   \n",
       "731  0.000000  1.000000  ...  63.28     0  64.86     1  49.07     1  54.70   \n",
       "732  0.781831  0.623490  ...  64.86     1  49.07     1  54.70     1  50.20   \n",
       "733  0.974928 -0.222521  ...  49.07     1  54.70     1  50.20     0  97.70   \n",
       "\n",
       "     IV23   IV24  Power  \n",
       "729     1  49.07   54.7  \n",
       "730     1  54.70   50.2  \n",
       "731     1  50.20   97.7  \n",
       "732     0  97.70   88.5  \n",
       "733     0  88.50   80.9  \n",
       "\n",
       "[5 rows x 29 columns]"
      ]
     },
     "execution_count": 16,
     "metadata": {},
     "output_type": "execute_result"
    }
   ],
   "source": [
    "train_data= data.iloc[7:729, 0:52]# 2009년부터2010년까지\n",
    "train_data.head(5)\n",
    "\n",
    "test_data= data.iloc[729:, 0:52]# 2011년\n",
    "test_data.head(5)"
   ]
  },
  {
   "cell_type": "code",
   "execution_count": 17,
   "metadata": {},
   "outputs": [],
   "source": [
    "def weighted_mse(alpha = 1):\n",
    "    def weighted_mse_fixed(label, pred):\n",
    "        residual = (label - pred).astype(\"float\")\n",
    "        grad = np.where(residual>0, -2*alpha*residual, -2*residual)\n",
    "        hess = np.where(residual>0, 2*alpha, 2.0)\n",
    "        return grad, hess\n",
    "    return weighted_mse_fixed"
   ]
  },
  {
   "cell_type": "code",
   "execution_count": 18,
   "metadata": {},
   "outputs": [
    {
     "name": "stderr",
     "output_type": "stream",
     "text": [
      " 14%|█▍        | 1/7 [00:01<00:08,  1.33s/it]"
     ]
    },
    {
     "name": "stdout",
     "output_type": "stream",
     "text": [
      "Weekday 1 || best score : 17.002706575669315 \n"
     ]
    },
    {
     "name": "stderr",
     "output_type": "stream",
     "text": [
      " 29%|██▊       | 2/7 [00:02<00:06,  1.31s/it]"
     ]
    },
    {
     "name": "stdout",
     "output_type": "stream",
     "text": [
      "Weekday 2 || best score : 11.024502371255545 \n"
     ]
    },
    {
     "name": "stderr",
     "output_type": "stream",
     "text": [
      " 43%|████▎     | 3/7 [00:03<00:05,  1.30s/it]"
     ]
    },
    {
     "name": "stdout",
     "output_type": "stream",
     "text": [
      "Weekday 3 || best score : 13.698665337900426 \n"
     ]
    },
    {
     "name": "stderr",
     "output_type": "stream",
     "text": [
      " 57%|█████▋    | 4/7 [00:05<00:03,  1.27s/it]"
     ]
    },
    {
     "name": "stdout",
     "output_type": "stream",
     "text": [
      "Weekday 4 || best score : 14.38317675459194 \n"
     ]
    },
    {
     "name": "stderr",
     "output_type": "stream",
     "text": [
      " 71%|███████▏  | 5/7 [00:06<00:02,  1.28s/it]"
     ]
    },
    {
     "name": "stdout",
     "output_type": "stream",
     "text": [
      "Weekday 5 || best score : 15.753865857555379 \n"
     ]
    },
    {
     "name": "stderr",
     "output_type": "stream",
     "text": [
      " 86%|████████▌ | 6/7 [00:07<00:01,  1.28s/it]"
     ]
    },
    {
     "name": "stdout",
     "output_type": "stream",
     "text": [
      "Weekday 6 || best score : 25.41655640038834 \n"
     ]
    },
    {
     "name": "stderr",
     "output_type": "stream",
     "text": [
      "100%|██████████| 7/7 [00:09<00:00,  1.29s/it]"
     ]
    },
    {
     "name": "stdout",
     "output_type": "stream",
     "text": [
      "Weekday 7 || best score : 12.699444500676114 \n",
      "주별 모델 생성 후 최종 점수: 17.2273595886821\n",
      "토요일 제외 후 최종 점수: 17.2273595886821\n"
     ]
    },
    {
     "name": "stderr",
     "output_type": "stream",
     "text": [
      "\n"
     ]
    }
   ],
   "source": [
    "from tqdm import tqdm\n",
    "import time\n",
    "\n",
    "train_data = train_data.sort_values([\"Weekday\", \"Date\"])\n",
    "test_data = test_data.sort_values([\"Weekday\", \"Date\"])\n",
    "Y_test = test_data.Power\n",
    "\n",
    "xgb_pred = []\n",
    "pred_0 =[]\n",
    "pred_1 =[]\n",
    "pred_2 =[]\n",
    "pred_3 =[]\n",
    "pred_4 =[]\n",
    "pred_5 =[]\n",
    "pred_6 =[]\n",
    "\n",
    "robust = []\n",
    "robust_Y_test = []\n",
    "\n",
    "mape_list =[]\n",
    "\n",
    "for i in tqdm(range(7)):\n",
    "    X_Data_mushine= train_data.loc[train_data.Weekday == i+1, ].drop([\"Date\",'Month', 'Day', 'Weekday', 'Power'], axis=1)\n",
    "    Y_Data_mushine= train_data.loc[train_data.Weekday == i+1, 'Power']\n",
    "    X_Test_mushine= test_data.loc[test_data.Weekday == i+1, ].drop([\"Date\",'Month', 'Day', 'Weekday', 'Power'], axis=1)\n",
    "    Y_Test_mushine= test_data.loc[test_data.Weekday == i+1, 'Power']\n",
    "    \n",
    "    xgb = XGBRegressor(random_state = 42)\n",
    "    \n",
    "    xgb.fit(X_Data_mushine, Y_Data_mushine)\n",
    "    pred = xgb.predict(X_Test_mushine)\n",
    "    score0 =  mean_absolute_percentage_error(Y_Test_mushine, pred)\n",
    "    \n",
    "    for j in [1, 3, 5, 7, 10, 25, 50, 75, 100]:\n",
    "        xgb = XGBRegressor(random_state = 42)\n",
    "        xgb.set_params(**{'objective' : weighted_mse(j)})\n",
    "        xgb.fit(X_Data_mushine, Y_Data_mushine)\n",
    "        pred = xgb.predict(X_Test_mushine)\n",
    "        score1 =  mean_absolute_percentage_error(Y_Test_mushine, pred)\n",
    "        if score1 < score0:\n",
    "            best_alpha = j\n",
    "            score0 = score1\n",
    "    \n",
    "    mape_list.append(score0)\n",
    "    xgb_pred.extend(pred)  \n",
    "    print(\"Weekday {} || best score : {} \".format(i+1, score0))\n",
    "    \n",
    "    # 요일 별 개별 저장\n",
    "    if i == 0:\n",
    "        pred_0.append(pred)\n",
    "        robust.extend(pred)\n",
    "        robust_Y_test.extend(Y_Test_mushine)\n",
    "    elif i == 1:\n",
    "        pred_1.append(pred)\n",
    "        robust.extend(pred)\n",
    "        robust_Y_test.extend(Y_Test_mushine)\n",
    "    elif i == 2:\n",
    "        pred_2.append(pred)\n",
    "        robust.extend(pred)\n",
    "        robust_Y_test.extend(Y_Test_mushine)\n",
    "    elif i == 3:\n",
    "        pred_3.append(pred)\n",
    "        robust.extend(pred)\n",
    "        robust_Y_test.extend(Y_Test_mushine)\n",
    "    elif i == 4:\n",
    "        pred_4.append(pred)\n",
    "        robust.extend(pred)\n",
    "        robust_Y_test.extend(Y_Test_mushine)\n",
    "    elif i == 5: # 제일 약함\n",
    "        pred_5.append(pred)\n",
    "        robust.extend(pred)\n",
    "        robust_Y_test.extend(Y_Test_mushine)\n",
    "    elif i == 6:\n",
    "        pred_6.append(pred)\n",
    "        robust.extend(pred)\n",
    "        robust_Y_test.extend(Y_Test_mushine)\n",
    "            \n",
    "print(\"주별 모델 생성 후 최종 점수:\" ,mean_absolute_percentage_error(Y_test, xgb_pred))\n",
    "print(\"토요일 제외 후 최종 점수:\" ,mean_absolute_percentage_error(robust_Y_test, robust))"
   ]
  },
  {
   "cell_type": "code",
   "execution_count": 19,
   "metadata": {},
   "outputs": [
    {
     "data": {
      "text/plain": [
       "[<matplotlib.lines.Line2D at 0x1c607a65880>]"
      ]
     },
     "execution_count": 19,
     "metadata": {},
     "output_type": "execute_result"
    },
    {
     "data": {
      "image/png": "[encoded data removed]",
      "text/plain": [
       "<Figure size 640x480 with 1 Axes>"
      ]
     },
     "metadata": {},
     "output_type": "display_data"
    }
   ],
   "source": [
    "no_df = pd.DataFrame({'score':mape_list})\n",
    "plt.bar(np.arange(len(no_df))+1, no_df['score'])\n",
    "plt.plot([1,7], [10, 10], color = 'red')"
   ]
  },
  {
   "cell_type": "markdown",
   "metadata": {},
   "source": [
    "# 월별 보다는 주별로 그룹을 나눠서 진행했을 때 더 성능이 좋았음"
   ]
  },
  {
   "cell_type": "markdown",
   "metadata": {},
   "source": [
    "# 주 별로 나눠서 진행할때, xgb보다는 ngb가 0.5정도 더 좋은 성능을 보였음"
   ]
  },
  {
   "cell_type": "markdown",
   "metadata": {},
   "source": [
    "# 파생 변수는 추가하면 오히려 성능이 낮아지므로 원데이터를 가지고 진행 할 예정"
   ]
  },
  {
   "cell_type": "markdown",
   "metadata": {},
   "source": [
    "# 주 별 MLP 모델링"
   ]
  },
  {
   "cell_type": "code",
   "execution_count": 4,
   "metadata": {},
   "outputs": [],
   "source": [
    "import pandas as pd"
   ]
  },
  {
   "cell_type": "code",
   "execution_count": 69,
   "metadata": {},
   "outputs": [],
   "source": [
    "train_data= data.iloc[7:729, 0:]\n",
    "test_data= data.iloc[729:, 0:]# 2011년"
   ]
  },
  {
   "cell_type": "code",
   "execution_count": 6,
   "metadata": {},
   "outputs": [],
   "source": [
    "train_data = train_data.sort_values([\"Weekday\", \"Date\"])\n",
    "test_data = test_data.sort_values([\"Weekday\", \"Date\"])\n",
    "Y_test = test_data.Power\n",
    "\n",
    "pred = []"
   ]
  },
  {
   "cell_type": "code",
   "execution_count": 7,
   "metadata": {},
   "outputs": [],
   "source": [
    "def weighted_mse(alpha = 1):\n",
    "    def weighted_mse_fixed(label, pred):\n",
    "        residual = (label - pred).astype(\"float\")\n",
    "        grad = np.where(residual>0, -2*alpha*residual, -2*residual)\n",
    "        hess = np.where(residual>0, 2*alpha, 2.0)\n",
    "        return grad, hess\n",
    "    return weighted_mse_fixed"
   ]
  },
  {
   "cell_type": "markdown",
   "metadata": {},
   "source": [
    "# 월요일 MLP"
   ]
  },
  {
   "cell_type": "code",
   "execution_count": 59,
   "metadata": {},
   "outputs": [],
   "source": [
    "X_Data = train_data.loc[train_data.Weekday == 1, ].drop([\"Date\",'Month', 'Day', 'Weekday', 'Power'], axis=1)\n",
    "Y_Data = train_data.loc[train_data.Weekday == 1, 'Power']\n",
    "X_Test = test_data.loc[test_data.Weekday == 1, ].drop([\"Date\",'Month', 'Day', 'Weekday', 'Power'], axis=1)\n",
    "Y_Test = test_data.loc[test_data.Weekday == 1, 'Power']\n",
    "\n",
    "scaler = StandardScaler().fit(X_Data)\n",
    "X_Data= scaler.transform(X_Data)\n",
    "X_Test= scaler.transform(X_Test)\n",
    "\n",
    "import optuna\n",
    "from optuna import Trial, visualization\n",
    "from optuna.samplers import TPESampler\n",
    "\n",
    "from sklearn.metrics import mean_absolute_error\n",
    "def objective(trial):\n",
    "    param = {\n",
    "        'learning_rate_init': trial.suggest_float('learning_rate_init', 0.0001, 0.1, step = 0.0001),\n",
    "        'first_layer_neurons': trial.suggest_int('first_layer_neurons', 1, 40, step = 1),\n",
    "        'second_layer_neurons': trial.suggest_int('second_layer_neurons', 1, 40, step = 1),\n",
    "        'activation': trial.suggest_categorical('activation', ['identity', 'tanh', 'relu']),\n",
    "        'max_iter' : trial.suggest_int('max_iter', 100, 2000, step = 10),\n",
    "        'alpha' : trial.suggest_float('alpha', 0.0001, 0.001, step = 0.0001),\n",
    "        'batch_size' : trial.suggest_float('batch_size', 5, 100, step = 1),\n",
    "        'learning_rate' : trial.suggest_categorical('learning_rate',['constant', 'adaptive']),\n",
    "        \n",
    "        'eta' : trial.suggest_float('eta', 0.1, 1, step = 0.01),\n",
    "        # 'num_boost_around' : trial.suggest_int('num_boost_around', 1, 30, step = 1),\n",
    "        'max_depth' : trial.suggest_int('max_depth', 4, 16, step = 1),\n",
    "        # 'sub_sample' : trial.suggest_float('sub_sample', 0.1, 1, step = 0.01),\n",
    "        'objective' : weighted_mse()\n",
    "    }\n",
    "\n",
    "    model_MON = MLPRegressor(\n",
    "        hidden_layer_sizes = (param['first_layer_neurons']),\n",
    "        learning_rate_init = param['learning_rate_init'],\n",
    "        activation = param['activation'],\n",
    "        random_state = 42,\n",
    "        max_iter = param['max_iter'],\n",
    "        learning_rate = param['learning_rate']\n",
    "    )\n",
    "    model_MON.fit(X_Data, Y_Data.values.ravel())\n",
    "    mlp_pred_MON = model_MON.predict(X_Test)\n",
    "\n",
    "    return mean_absolute_percentage_error(Y_Test, mlp_pred_MON)"
   ]
  },
  {
   "cell_type": "code",
   "execution_count": 60,
   "metadata": {},
   "outputs": [],
   "source": [
    "study = optuna.create_study(direction = 'minimize')\n",
    "study.optimize(objective, n_trials = 5000)\n",
    "\n",
    "clear_output()"
   ]
  },
  {
   "cell_type": "code",
   "execution_count": 61,
   "metadata": {},
   "outputs": [],
   "source": [
    "# 월요일 결과 저장\n",
    "MON_hyper = study.trials_dataframe().sort_values([\"value\"]).head(1)\n",
    "MON_hyper\n",
    "MON_hyper.to_csv(\"MON_hyper.csv\", index=False, encoding=\"utf-8-sig\")"
   ]
  },
  {
   "cell_type": "code",
   "execution_count": 62,
   "metadata": {},
   "outputs": [
    {
     "name": "stdout",
     "output_type": "stream",
     "text": [
      "MLP Score:  15.061897590520454\n"
     ]
    }
   ],
   "source": [
    "# 최적 파라미터 적용\n",
    "model_MON = MLPRegressor(\n",
    "        hidden_layer_sizes = study.trials_dataframe().sort_values([\"value\"]).params_first_layer_neurons.iloc[0],\n",
    "        learning_rate_init = study.trials_dataframe().sort_values([\"value\"]).params_learning_rate_init.iloc[0],\n",
    "        activation = study.trials_dataframe().sort_values([\"value\"]).params_activation.iloc[0],\n",
    "        random_state = 42,\n",
    "        max_iter = study.trials_dataframe().sort_values([\"value\"]).params_max_iter\t.iloc[0],\n",
    "        learning_rate = study.trials_dataframe().sort_values([\"value\"]).params_learning_rate.iloc[0]\n",
    "    ).fit(X_Data, Y_Data.values.ravel())\n",
    "\n",
    "mlp_pred_MON = model_MON.predict(X_Test)\n",
    "\n",
    "print( \"MLP Score: \", mean_absolute_percentage_error(Y_Test, mlp_pred_MON))\n",
    "pred.extend(mlp_pred_MON)"
   ]
  },
  {
   "cell_type": "markdown",
   "metadata": {},
   "source": [
    "# 화요일 MLP"
   ]
  },
  {
   "cell_type": "code",
   "execution_count": 63,
   "metadata": {},
   "outputs": [],
   "source": [
    "X_Data = train_data.loc[train_data.Weekday == 2, ].drop([\"Date\",'Month', 'Day', 'Weekday', 'Power'], axis=1)\n",
    "Y_Data = train_data.loc[train_data.Weekday == 2, 'Power']\n",
    "X_Test = test_data.loc[test_data.Weekday == 2, ].drop([\"Date\",'Month', 'Day', 'Weekday', 'Power'], axis=1)\n",
    "Y_Test = test_data.loc[test_data.Weekday == 2, 'Power']\n",
    "\n",
    "scaler = StandardScaler().fit(X_Data)\n",
    "X_Data= scaler.transform(X_Data)\n",
    "X_Test= scaler.transform(X_Test)\n",
    "\n",
    "import optuna\n",
    "from optuna import Trial, visualization\n",
    "from optuna.samplers import TPESampler\n",
    "\n",
    "from sklearn.metrics import mean_absolute_error\n",
    "def objective(trial):\n",
    "    param = {\n",
    "        'learning_rate_init': trial.suggest_float('learning_rate_init', 0.0001, 0.1, step = 0.0001),\n",
    "        'first_layer_neurons': trial.suggest_int('first_layer_neurons', 1, 40, step = 1),\n",
    "        'second_layer_neurons': trial.suggest_int('second_layer_neurons', 1, 40, step = 1),\n",
    "        'activation': trial.suggest_categorical('activation', ['identity', 'tanh', 'relu']),\n",
    "        'max_iter' : trial.suggest_int('max_iter', 100, 2000, step = 10),\n",
    "        'alpha' : trial.suggest_float('alpha', 0.0001, 0.001, step = 0.0001),\n",
    "        'batch_size' : trial.suggest_float('batch_size', 5, 100, step = 1),\n",
    "        'learning_rate' : trial.suggest_categorical('learning_rate',['constant', 'adaptive']),\n",
    "        \n",
    "        'eta' : trial.suggest_float('eta', 0.1, 1, step = 0.01),\n",
    "        # 'num_boost_around' : trial.suggest_int('num_boost_around', 1, 30, step = 1),\n",
    "        'max_depth' : trial.suggest_int('max_depth', 4, 16, step = 1),\n",
    "        # 'sub_sample' : trial.suggest_float('sub_sample', 0.1, 1, step = 0.01),\n",
    "        'objective' : weighted_mse()\n",
    "    }\n",
    "\n",
    "    model_TUE = MLPRegressor(\n",
    "        hidden_layer_sizes = (param['first_layer_neurons']),\n",
    "        learning_rate_init = param['learning_rate_init'],\n",
    "        activation = param['activation'],\n",
    "        random_state = 42,\n",
    "        max_iter = param['max_iter'],\n",
    "        learning_rate = param['learning_rate']\n",
    "    )\n",
    "    model_TUE.fit(X_Data, Y_Data.values.ravel())\n",
    "    mlp_pred_TUE = model_TUE.predict(X_Test)\n",
    "\n",
    "    return mean_absolute_percentage_error(Y_Test, mlp_pred_TUE)"
   ]
  },
  {
   "cell_type": "code",
   "execution_count": 64,
   "metadata": {},
   "outputs": [],
   "source": [
    "study = optuna.create_study(direction = 'minimize')\n",
    "study.optimize(objective, n_trials = 5000)\n",
    "\n",
    "clear_output()"
   ]
  },
  {
   "cell_type": "code",
   "execution_count": 65,
   "metadata": {},
   "outputs": [
    {
     "name": "stdout",
     "output_type": "stream",
     "text": [
      "      number     value             datetime_start          datetime_complete  \\\n",
      "2426    2426  9.139003 2022-11-24 08:10:45.851817 2022-11-24 08:10:46.115817   \n",
      "\n",
      "                   duration params_activation  params_alpha  \\\n",
      "2426 0 days 00:00:00.264000              relu        0.0001   \n",
      "\n",
      "      params_batch_size  params_eta  params_first_layer_neurons  \\\n",
      "2426               63.0        0.89                          22   \n",
      "\n",
      "     params_learning_rate  params_learning_rate_init  params_max_depth  \\\n",
      "2426             adaptive                     0.0168                15   \n",
      "\n",
      "      params_max_iter  params_second_layer_neurons     state  \n",
      "2426              940                           36  COMPLETE  \n"
     ]
    }
   ],
   "source": [
    "# 화요일 결과 저장\n",
    "TUE_hyper = study.trials_dataframe().sort_values([\"value\"]).head(1)\n",
    "print(TUE_hyper)\n",
    "TUE_hyper.to_csv(\"TUE_hyper.csv\", index=False, encoding=\"utf-8-sig\")"
   ]
  },
  {
   "cell_type": "code",
   "execution_count": 66,
   "metadata": {},
   "outputs": [
    {
     "name": "stdout",
     "output_type": "stream",
     "text": [
      "MLP Score:  9.13900304704747\n"
     ]
    }
   ],
   "source": [
    "# 최적 파라미터 적용\n",
    "model_TUE = MLPRegressor(\n",
    "        hidden_layer_sizes = study.trials_dataframe().sort_values([\"value\"]).params_first_layer_neurons.iloc[0],\n",
    "        learning_rate_init = study.trials_dataframe().sort_values([\"value\"]).params_learning_rate_init.iloc[0],\n",
    "        activation = study.trials_dataframe().sort_values([\"value\"]).params_activation.iloc[0],\n",
    "        random_state = 42,\n",
    "        max_iter = study.trials_dataframe().sort_values([\"value\"]).params_max_iter\t.iloc[0],\n",
    "        learning_rate = study.trials_dataframe().sort_values([\"value\"]).params_learning_rate.iloc[0]\n",
    "    ).fit(X_Data, Y_Data.values.ravel())\n",
    "\n",
    "mlp_pred_TUE = model_TUE.predict(X_Test)\n",
    "\n",
    "print( \"MLP Score: \", mean_absolute_percentage_error(Y_Test, mlp_pred_TUE))\n",
    "pred.extend(mlp_pred_TUE)"
   ]
  },
  {
   "cell_type": "markdown",
   "metadata": {},
   "source": [
    "# 수요일 MLP"
   ]
  },
  {
   "cell_type": "code",
   "execution_count": 67,
   "metadata": {},
   "outputs": [],
   "source": [
    "X_Data = train_data.loc[train_data.Weekday == 3, ].drop([\"Date\",'Month', 'Day', 'Weekday', 'Power'], axis=1)\n",
    "Y_Data = train_data.loc[train_data.Weekday == 3, 'Power']\n",
    "X_Test = test_data.loc[test_data.Weekday == 3, ].drop([\"Date\",'Month', 'Day', 'Weekday', 'Power'], axis=1)\n",
    "Y_Test = test_data.loc[test_data.Weekday == 3, 'Power']\n",
    "\n",
    "scaler = StandardScaler().fit(X_Data)\n",
    "X_Data= scaler.transform(X_Data)\n",
    "X_Test= scaler.transform(X_Test)\n",
    "\n",
    "import optuna\n",
    "from optuna import Trial, visualization\n",
    "from optuna.samplers import TPESampler\n",
    "\n",
    "from sklearn.metrics import mean_absolute_error\n",
    "def objective(trial):\n",
    "    param = {\n",
    "        'learning_rate_init': trial.suggest_float('learning_rate_init', 0.0001, 0.1, step = 0.0001),\n",
    "        'first_layer_neurons': trial.suggest_int('first_layer_neurons', 1, 40, step = 1),\n",
    "        'second_layer_neurons': trial.suggest_int('second_layer_neurons', 1, 40, step = 1),\n",
    "        'activation': trial.suggest_categorical('activation', ['identity', 'tanh', 'relu']),\n",
    "        'max_iter' : trial.suggest_int('max_iter', 100, 2000, step = 10),\n",
    "        'alpha' : trial.suggest_float('alpha', 0.0001, 0.001, step = 0.0001),\n",
    "        'batch_size' : trial.suggest_float('batch_size', 5, 100, step = 1),\n",
    "        'learning_rate' : trial.suggest_categorical('learning_rate',['constant', 'adaptive']),\n",
    "        \n",
    "        'eta' : trial.suggest_float('eta', 0.1, 1, step = 0.01),\n",
    "        # 'num_boost_around' : trial.suggest_int('num_boost_around', 1, 30, step = 1),\n",
    "        'max_depth' : trial.suggest_int('max_depth', 4, 16, step = 1),\n",
    "        # 'sub_sample' : trial.suggest_float('sub_sample', 0.1, 1, step = 0.01),\n",
    "        'objective' : weighted_mse()\n",
    "    }\n",
    "\n",
    "    model_WED = MLPRegressor(\n",
    "        hidden_layer_sizes = (param['first_layer_neurons']),\n",
    "        learning_rate_init = param['learning_rate_init'],\n",
    "        activation = param['activation'],\n",
    "        random_state = 42,\n",
    "        max_iter = param['max_iter'],\n",
    "        learning_rate = param['learning_rate']\n",
    "    )\n",
    "    model_WED.fit(X_Data, Y_Data.values.ravel())\n",
    "    mlp_pred_WED = model_WED.predict(X_Test)\n",
    "\n",
    "    return mean_absolute_percentage_error(Y_Test, mlp_pred_WED)"
   ]
  },
  {
   "cell_type": "code",
   "execution_count": 68,
   "metadata": {},
   "outputs": [],
   "source": [
    "study = optuna.create_study(direction = 'minimize')\n",
    "study.optimize(objective, n_trials = 5000)\n",
    "\n",
    "clear_output()"
   ]
  },
  {
   "cell_type": "code",
   "execution_count": 69,
   "metadata": {},
   "outputs": [
    {
     "name": "stdout",
     "output_type": "stream",
     "text": [
      "      number      value             datetime_start          datetime_complete  \\\n",
      "3657    3657  11.505911 2022-11-24 08:40:36.073060 2022-11-24 08:40:36.395060   \n",
      "\n",
      "                   duration params_activation  params_alpha  \\\n",
      "3657 0 days 00:00:00.322000              relu        0.0002   \n",
      "\n",
      "      params_batch_size  params_eta  params_first_layer_neurons  \\\n",
      "3657               15.0         0.9                           4   \n",
      "\n",
      "     params_learning_rate  params_learning_rate_init  params_max_depth  \\\n",
      "3657             adaptive                      0.025                16   \n",
      "\n",
      "      params_max_iter  params_second_layer_neurons     state  \n",
      "3657              500                           28  COMPLETE  \n"
     ]
    }
   ],
   "source": [
    "# 수요일 결과 저장\n",
    "WED_hyper = study.trials_dataframe().sort_values([\"value\"]).head(1)\n",
    "print(WED_hyper)\n",
    "WED_hyper.to_csv(\"WED_hyper.csv\", index=False, encoding=\"utf-8-sig\")"
   ]
  },
  {
   "cell_type": "code",
   "execution_count": 70,
   "metadata": {},
   "outputs": [
    {
     "name": "stdout",
     "output_type": "stream",
     "text": [
      "MLP Score:  11.505910827216185\n"
     ]
    }
   ],
   "source": [
    "# 최적 파라미터 적용\n",
    "model_WED = MLPRegressor(\n",
    "        hidden_layer_sizes = study.trials_dataframe().sort_values([\"value\"]).params_first_layer_neurons.iloc[0],\n",
    "        learning_rate_init = study.trials_dataframe().sort_values([\"value\"]).params_learning_rate_init.iloc[0],\n",
    "        activation = study.trials_dataframe().sort_values([\"value\"]).params_activation.iloc[0],\n",
    "        random_state = 42,\n",
    "        max_iter = study.trials_dataframe().sort_values([\"value\"]).params_max_iter\t.iloc[0],\n",
    "        learning_rate = study.trials_dataframe().sort_values([\"value\"]).params_learning_rate.iloc[0]\n",
    "    ).fit(X_Data, Y_Data.values.ravel())\n",
    "\n",
    "mlp_pred_WED = model_WED.predict(X_Test)\n",
    "\n",
    "print( \"MLP Score: \", mean_absolute_percentage_error(Y_Test, mlp_pred_WED))\n",
    "pred.extend(mlp_pred_WED)"
   ]
  },
  {
   "cell_type": "markdown",
   "metadata": {},
   "source": [
    "# 목요일 MLP"
   ]
  },
  {
   "cell_type": "code",
   "execution_count": 36,
   "metadata": {},
   "outputs": [],
   "source": [
    "X_Data = train_data.loc[train_data.Weekday == 4, ].drop([\"Date\",'Month', 'Day', 'Weekday', 'Power'], axis=1)\n",
    "Y_Data = train_data.loc[train_data.Weekday == 4, 'Power']\n",
    "X_Test = test_data.loc[test_data.Weekday == 4, ].drop([\"Date\",'Month', 'Day', 'Weekday', 'Power'], axis=1)\n",
    "Y_Test = test_data.loc[test_data.Weekday == 4, 'Power']\n",
    "\n",
    "scaler = StandardScaler().fit(X_Data)\n",
    "X_Data= scaler.transform(X_Data)\n",
    "X_Test= scaler.transform(X_Test)\n",
    "\n",
    "import optuna\n",
    "from optuna import Trial, visualization\n",
    "from optuna.samplers import TPESampler\n",
    "\n",
    "from sklearn.metrics import mean_absolute_error\n",
    "def objective(trial):\n",
    "    param = {\n",
    "        'learning_rate_init': trial.suggest_float('learning_rate_init', 0.0001, 0.1, step = 0.0001),\n",
    "        'first_layer_neurons': trial.suggest_int('first_layer_neurons', 1, 40, step = 1),\n",
    "        'second_layer_neurons': trial.suggest_int('second_layer_neurons', 1, 40, step = 1),\n",
    "        'activation': trial.suggest_categorical('activation', ['identity', 'tanh', 'relu']),\n",
    "        'max_iter' : trial.suggest_int('max_iter', 100, 2000, step = 10),\n",
    "        'alpha' : trial.suggest_float('alpha', 0.0001, 0.001, step = 0.0001),\n",
    "        'batch_size' : trial.suggest_float('batch_size', 5, 100, step = 1),\n",
    "        'learning_rate' : trial.suggest_categorical('learning_rate',['constant', 'adaptive']),\n",
    "        \n",
    "        'eta' : trial.suggest_float('eta', 0.1, 1, step = 0.01),\n",
    "        # 'num_boost_around' : trial.suggest_int('num_boost_around', 1, 30, step = 1),\n",
    "        'max_depth' : trial.suggest_int('max_depth', 4, 16, step = 1),\n",
    "        # 'sub_sample' : trial.suggest_float('sub_sample', 0.1, 1, step = 0.01),\n",
    "        'objective' : weighted_mse()\n",
    "    }\n",
    "\n",
    "    model_THUR = MLPRegressor(\n",
    "        hidden_layer_sizes = (param['first_layer_neurons']),\n",
    "        learning_rate_init = param['learning_rate_init'],\n",
    "        activation = param['activation'],\n",
    "        random_state = 42,\n",
    "        max_iter = param['max_iter'],\n",
    "        learning_rate = param['learning_rate']\n",
    "    )\n",
    "    model_THUR.fit(X_Data, Y_Data.values.ravel())\n",
    "    mlp_pred_THUR = model_THUR.predict(X_Test)\n",
    "\n",
    "    return mean_absolute_percentage_error(Y_Test, mlp_pred_THUR)"
   ]
  },
  {
   "cell_type": "code",
   "execution_count": 37,
   "metadata": {},
   "outputs": [],
   "source": [
    "study = optuna.create_study(direction = 'minimize')\n",
    "study.optimize(objective, n_trials = 3000)\n",
    "\n",
    "clear_output()"
   ]
  },
  {
   "cell_type": "code",
   "execution_count": 38,
   "metadata": {},
   "outputs": [
    {
     "name": "stdout",
     "output_type": "stream",
     "text": [
      "     number     value             datetime_start          datetime_complete  \\\n",
      "735     735  9.865839 2022-11-24 13:24:17.055636 2022-11-24 13:24:17.261403   \n",
      "\n",
      "                  duration params_activation  params_alpha  params_batch_size  \\\n",
      "735 0 days 00:00:00.205767              relu        0.0001               41.0   \n",
      "\n",
      "     params_eta  params_first_layer_neurons params_learning_rate  \\\n",
      "735        0.67                          22             adaptive   \n",
      "\n",
      "     params_learning_rate_init  params_max_depth  params_max_iter  \\\n",
      "735                     0.0478                 9              480   \n",
      "\n",
      "     params_second_layer_neurons     state  \n",
      "735                            7  COMPLETE  \n"
     ]
    }
   ],
   "source": [
    "# 목요일 결과 저장\n",
    "THUR_hyper = study.trials_dataframe().sort_values([\"value\"]).head(1)\n",
    "print(THUR_hyper)\n",
    "THUR_hyper.to_csv(\"THUR_hyper.csv\", index=False, encoding=\"utf-8-sig\")"
   ]
  },
  {
   "cell_type": "code",
   "execution_count": 39,
   "metadata": {},
   "outputs": [
    {
     "name": "stdout",
     "output_type": "stream",
     "text": [
      "MLP Score:  9.865839007473086\n"
     ]
    }
   ],
   "source": [
    "# 최적 파라미터 적용\n",
    "model_THUR = MLPRegressor(\n",
    "        hidden_layer_sizes = study.trials_dataframe().sort_values([\"value\"]).params_first_layer_neurons.iloc[0],\n",
    "        learning_rate_init = study.trials_dataframe().sort_values([\"value\"]).params_learning_rate_init.iloc[0],\n",
    "        activation = study.trials_dataframe().sort_values([\"value\"]).params_activation.iloc[0],\n",
    "        random_state = 42,\n",
    "        max_iter = study.trials_dataframe().sort_values([\"value\"]).params_max_iter\t.iloc[0],\n",
    "        learning_rate = study.trials_dataframe().sort_values([\"value\"]).params_learning_rate.iloc[0]\n",
    "    ).fit(X_Data, Y_Data.values.ravel())\n",
    "\n",
    "mlp_pred_THUR = model_THUR.predict(X_Test)\n",
    "\n",
    "print( \"MLP Score: \", mean_absolute_percentage_error(Y_Test, mlp_pred_THUR))\n",
    "pred.extend(mlp_pred_THUR)"
   ]
  },
  {
   "cell_type": "markdown",
   "metadata": {},
   "source": [
    "# 금요일 MLP"
   ]
  },
  {
   "cell_type": "code",
   "execution_count": 75,
   "metadata": {},
   "outputs": [],
   "source": [
    "X_Data = train_data.loc[train_data.Weekday == 5, ].drop([\"Date\",'Month', 'Day', 'Weekday', 'Power'], axis=1)\n",
    "Y_Data = train_data.loc[train_data.Weekday == 5, 'Power']\n",
    "X_Test = test_data.loc[test_data.Weekday == 5, ].drop([\"Date\",'Month', 'Day', 'Weekday', 'Power'], axis=1)\n",
    "Y_Test = test_data.loc[test_data.Weekday == 5, 'Power']\n",
    "\n",
    "scaler = StandardScaler().fit(X_Data)\n",
    "X_Data= scaler.transform(X_Data)\n",
    "X_Test= scaler.transform(X_Test)\n",
    "\n",
    "import optuna\n",
    "from optuna import Trial, visualization\n",
    "from optuna.samplers import TPESampler\n",
    "\n",
    "from sklearn.metrics import mean_absolute_error\n",
    "def objective(trial):\n",
    "    param = {\n",
    "        'learning_rate_init': trial.suggest_float('learning_rate_init', 0.0001, 0.1, step = 0.0001),\n",
    "        'first_layer_neurons': trial.suggest_int('first_layer_neurons', 1, 40, step = 1),\n",
    "        'second_layer_neurons': trial.suggest_int('second_layer_neurons', 1, 40, step = 1),\n",
    "        'activation': trial.suggest_categorical('activation', ['identity', 'tanh', 'relu']),\n",
    "        'max_iter' : trial.suggest_int('max_iter', 100, 2000, step = 10),\n",
    "        'alpha' : trial.suggest_float('alpha', 0.0001, 0.001, step = 0.0001),\n",
    "        'batch_size' : trial.suggest_float('batch_size', 5, 100, step = 1),\n",
    "        'learning_rate' : trial.suggest_categorical('learning_rate',['constant', 'adaptive']),\n",
    "        \n",
    "        'eta' : trial.suggest_float('eta', 0.1, 1, step = 0.01),\n",
    "        # 'num_boost_around' : trial.suggest_int('num_boost_around', 1, 30, step = 1),\n",
    "        'max_depth' : trial.suggest_int('max_depth', 4, 16, step = 1),\n",
    "        # 'sub_sample' : trial.suggest_float('sub_sample', 0.1, 1, step = 0.01),\n",
    "        'objective' : weighted_mse()\n",
    "    }\n",
    "\n",
    "    model_FRI = MLPRegressor(\n",
    "        hidden_layer_sizes = (param['first_layer_neurons']),\n",
    "        learning_rate_init = param['learning_rate_init'],\n",
    "        activation = param['activation'],\n",
    "        random_state = 42,\n",
    "        max_iter = param['max_iter'],\n",
    "        learning_rate = param['learning_rate']\n",
    "    )\n",
    "    model_FRI.fit(X_Data, Y_Data.values.ravel())\n",
    "    mlp_pred_FRI = model_FRI.predict(X_Test)\n",
    "\n",
    "    return mean_absolute_percentage_error(Y_Test, mlp_pred_FRI)"
   ]
  },
  {
   "cell_type": "code",
   "execution_count": 76,
   "metadata": {},
   "outputs": [],
   "source": [
    "study = optuna.create_study(direction = 'minimize')\n",
    "study.optimize(objective, n_trials = 5000)\n",
    "\n",
    "clear_output()"
   ]
  },
  {
   "cell_type": "code",
   "execution_count": 77,
   "metadata": {},
   "outputs": [
    {
     "name": "stdout",
     "output_type": "stream",
     "text": [
      "      number     value             datetime_start          datetime_complete  \\\n",
      "4670    4670  10.94428 2022-11-24 09:32:43.352011 2022-11-24 09:32:43.802013   \n",
      "\n",
      "                   duration params_activation  params_alpha  \\\n",
      "4670 0 days 00:00:00.450002              relu        0.0007   \n",
      "\n",
      "      params_batch_size  params_eta  params_first_layer_neurons  \\\n",
      "4670               45.0        0.71                           4   \n",
      "\n",
      "     params_learning_rate  params_learning_rate_init  params_max_depth  \\\n",
      "4670             adaptive                     0.0364                14   \n",
      "\n",
      "      params_max_iter  params_second_layer_neurons     state  \n",
      "4670             1080                            4  COMPLETE  \n"
     ]
    }
   ],
   "source": [
    "# 금요일 결과 저장\n",
    "FRI_hyper = study.trials_dataframe().sort_values([\"value\"]).head(1)\n",
    "print(FRI_hyper)\n",
    "FRI_hyper.to_csv(\"FRI_hyper.csv\", index=False, encoding=\"utf-8-sig\")"
   ]
  },
  {
   "cell_type": "code",
   "execution_count": 78,
   "metadata": {},
   "outputs": [
    {
     "name": "stdout",
     "output_type": "stream",
     "text": [
      "MLP Score:  10.944280040174334\n"
     ]
    }
   ],
   "source": [
    "# 최적 파라미터 적용\n",
    "model_FRI = MLPRegressor(\n",
    "        hidden_layer_sizes = study.trials_dataframe().sort_values([\"value\"]).params_first_layer_neurons.iloc[0],\n",
    "        learning_rate_init = study.trials_dataframe().sort_values([\"value\"]).params_learning_rate_init.iloc[0],\n",
    "        activation = study.trials_dataframe().sort_values([\"value\"]).params_activation.iloc[0],\n",
    "        random_state = 42,\n",
    "        max_iter = study.trials_dataframe().sort_values([\"value\"]).params_max_iter\t.iloc[0],\n",
    "        learning_rate = study.trials_dataframe().sort_values([\"value\"]).params_learning_rate.iloc[0]\n",
    "    ).fit(X_Data, Y_Data.values.ravel())\n",
    "\n",
    "model_FRI = model_FRI.predict(X_Test)\n",
    "\n",
    "print( \"MLP Score: \", mean_absolute_percentage_error(Y_Test, model_FRI))\n",
    "pred.extend(model_FRI)"
   ]
  },
  {
   "cell_type": "markdown",
   "metadata": {},
   "source": [
    "# 토요일 MLP"
   ]
  },
  {
   "cell_type": "code",
   "execution_count": 11,
   "metadata": {},
   "outputs": [],
   "source": [
    "X_Data = train_data.loc[train_data.Weekday == 6, ].drop([\"Date\",'Month', 'Day', 'Weekday', 'Power'], axis=1)\n",
    "Y_Data = train_data.loc[train_data.Weekday == 6, 'Power']\n",
    "X_Test = test_data.loc[test_data.Weekday == 6, ].drop([\"Date\",'Month', 'Day', 'Weekday', 'Power'], axis=1)\n",
    "Y_Test = test_data.loc[test_data.Weekday == 6, 'Power']\n",
    "\n",
    "scaler = StandardScaler().fit(X_Data)\n",
    "X_Data= scaler.transform(X_Data)\n",
    "X_Test= scaler.transform(X_Test)\n",
    "\n",
    "import optuna\n",
    "from optuna import Trial, visualization\n",
    "from optuna.samplers import TPESampler\n",
    "\n",
    "from sklearn.metrics import mean_absolute_error\n",
    "def objective(trial):\n",
    "    param = {\n",
    "        'learning_rate_init': trial.suggest_float('learning_rate_init', 0.0001, 0.1, step = 0.0001),\n",
    "        'first_layer_neurons': trial.suggest_int('first_layer_neurons', 1, 40, step = 1),\n",
    "        'second_layer_neurons': trial.suggest_int('second_layer_neurons', 1, 40, step = 1),\n",
    "        'activation': trial.suggest_categorical('activation', ['identity', 'tanh', 'relu']),\n",
    "        'max_iter' : trial.suggest_int('max_iter', 100, 2000, step = 10),\n",
    "        'alpha' : trial.suggest_float('alpha', 0.0001, 0.001, step = 0.0001),\n",
    "        'batch_size' : trial.suggest_float('batch_size', 5, 100, step = 1),\n",
    "        'learning_rate' : trial.suggest_categorical('learning_rate',['constant', 'adaptive']),\n",
    "        \n",
    "        'eta' : trial.suggest_float('eta', 0.1, 1, step = 0.01),\n",
    "        # 'num_boost_around' : trial.suggest_int('num_boost_around', 1, 30, step = 1),\n",
    "        'max_depth' : trial.suggest_int('max_depth', 4, 16, step = 1),\n",
    "        # 'sub_sample' : trial.suggest_float('sub_sample', 0.1, 1, step = 0.01),\n",
    "        'objective' : weighted_mse()\n",
    "    }\n",
    "\n",
    "    model_SAT = MLPRegressor(\n",
    "        hidden_layer_sizes = (param['first_layer_neurons']),\n",
    "        learning_rate_init = param['learning_rate_init'],\n",
    "        activation = param['activation'],\n",
    "        random_state = 42,\n",
    "        max_iter = param['max_iter'],\n",
    "        learning_rate = param['learning_rate']\n",
    "    )\n",
    "    model_SAT.fit(X_Data, Y_Data.values.ravel())\n",
    "    mlp_pred_SAT = model_SAT.predict(X_Test)\n",
    "\n",
    "    return mean_absolute_percentage_error(Y_Test, mlp_pred_SAT)"
   ]
  },
  {
   "cell_type": "code",
   "execution_count": null,
   "metadata": {},
   "outputs": [],
   "source": [
    "study = optuna.create_study(direction = 'minimize')\n",
    "study.optimize(objective, n_trials = 1000)\n",
    "\n",
    "clear_output()"
   ]
  },
  {
   "cell_type": "code",
   "execution_count": null,
   "metadata": {},
   "outputs": [],
   "source": [
    "# 토요일 결과 저장\n",
    "SAT_hyper = study.trials_dataframe().sort_values([\"value\"]).head(1)\n",
    "print(SAT_hyper)\n",
    "SAT_hyper.to_csv(\"SAT_hyper.csv\", index=False, encoding=\"utf-8-sig\")"
   ]
  },
  {
   "cell_type": "code",
   "execution_count": null,
   "metadata": {},
   "outputs": [
    {
     "name": "stdout",
     "output_type": "stream",
     "text": [
      "MLP Score:  23.639104608257636\n"
     ]
    }
   ],
   "source": [
    "# 최적 파라미터 적용\n",
    "model_SAT = MLPRegressor(\n",
    "        hidden_layer_sizes = study.trials_dataframe().sort_values([\"value\"]).params_first_layer_neurons.iloc[0],\n",
    "        learning_rate_init = study.trials_dataframe().sort_values([\"value\"]).params_learning_rate_init.iloc[0],\n",
    "        activation = study.trials_dataframe().sort_values([\"value\"]).params_activation.iloc[0],\n",
    "        random_state = 42,\n",
    "        max_iter = study.trials_dataframe().sort_values([\"value\"]).params_max_iter\t.iloc[0],\n",
    "        learning_rate = study.trials_dataframe().sort_values([\"value\"]).params_learning_rate.iloc[0]\n",
    "    ).fit(X_Data, Y_Data.values.ravel())\n",
    "\n",
    "mlp_pred_SAT = model_SAT.predict(X_Test)\n",
    "\n",
    "print( \"MLP Score: \", mean_absolute_percentage_error(Y_Test, mlp_pred_SAT))\n",
    "pred.extend(mlp_pred_SAT)"
   ]
  },
  {
   "cell_type": "markdown",
   "metadata": {},
   "source": [
    "# 일요일 MLP"
   ]
  },
  {
   "cell_type": "code",
   "execution_count": 83,
   "metadata": {},
   "outputs": [],
   "source": [
    "X_Data = train_data.loc[train_data.Weekday == 7, ].drop([\"Date\",'Month', 'Day', 'Weekday', 'Power'], axis=1)\n",
    "Y_Data = train_data.loc[train_data.Weekday == 7, 'Power']\n",
    "X_Test = test_data.loc[test_data.Weekday == 7, ].drop([\"Date\",'Month', 'Day', 'Weekday', 'Power'], axis=1)\n",
    "Y_Test = test_data.loc[test_data.Weekday == 7, 'Power']\n",
    "\n",
    "scaler = StandardScaler().fit(X_Data)\n",
    "X_Data= scaler.transform(X_Data)\n",
    "X_Test= scaler.transform(X_Test)\n",
    "\n",
    "import optuna\n",
    "from optuna import Trial, visualization\n",
    "from optuna.samplers import TPESampler\n",
    "\n",
    "from sklearn.metrics import mean_absolute_error\n",
    "def objective(trial):\n",
    "    param = {\n",
    "        'learning_rate_init': trial.suggest_float('learning_rate_init', 0.0001, 0.1, step = 0.0001),\n",
    "        'first_layer_neurons': trial.suggest_int('first_layer_neurons', 1, 40, step = 1),\n",
    "        'second_layer_neurons': trial.suggest_int('second_layer_neurons', 1, 40, step = 1),\n",
    "        'activation': trial.suggest_categorical('activation', ['identity', 'tanh', 'relu']),\n",
    "        'max_iter' : trial.suggest_int('max_iter', 100, 2000, step = 10),\n",
    "        'alpha' : trial.suggest_float('alpha', 0.0001, 0.001, step = 0.0001),\n",
    "        'batch_size' : trial.suggest_float('batch_size', 5, 100, step = 1),\n",
    "        'learning_rate' : trial.suggest_categorical('learning_rate',['constant', 'adaptive']),\n",
    "        \n",
    "        'eta' : trial.suggest_float('eta', 0.1, 1, step = 0.01),\n",
    "        # 'num_boost_around' : trial.suggest_int('num_boost_around', 1, 30, step = 1),\n",
    "        'max_depth' : trial.suggest_int('max_depth', 4, 16, step = 1),\n",
    "        # 'sub_sample' : trial.suggest_float('sub_sample', 0.1, 1, step = 0.01),\n",
    "        'objective' : weighted_mse()\n",
    "    }\n",
    "\n",
    "    model_SUN = MLPRegressor(\n",
    "        hidden_layer_sizes = (param['first_layer_neurons']),\n",
    "        learning_rate_init = param['learning_rate_init'],\n",
    "        activation = param['activation'],\n",
    "        random_state = 42,\n",
    "        max_iter = param['max_iter'],\n",
    "        learning_rate = param['learning_rate']\n",
    "    )\n",
    "    model_SUN.fit(X_Data, Y_Data.values.ravel())\n",
    "    mlp_pred_SUN = model_SUN.predict(X_Test)\n",
    "\n",
    "    return mean_absolute_percentage_error(Y_Test, mlp_pred_SUN)"
   ]
  },
  {
   "cell_type": "code",
   "execution_count": 84,
   "metadata": {},
   "outputs": [],
   "source": [
    "study = optuna.create_study(direction = 'minimize')\n",
    "study.optimize(objective, n_trials = 5000)\n",
    "\n",
    "clear_output()"
   ]
  },
  {
   "cell_type": "code",
   "execution_count": 85,
   "metadata": {},
   "outputs": [
    {
     "name": "stdout",
     "output_type": "stream",
     "text": [
      "     number      value             datetime_start          datetime_complete  \\\n",
      "872     872  17.377892 2022-11-24 09:57:08.891475 2022-11-24 09:57:08.959476   \n",
      "\n",
      "                  duration params_activation  params_alpha  params_batch_size  \\\n",
      "872 0 days 00:00:00.068001          identity        0.0001               68.0   \n",
      "\n",
      "     params_eta  params_first_layer_neurons params_learning_rate  \\\n",
      "872        0.91                          18             adaptive   \n",
      "\n",
      "     params_learning_rate_init  params_max_depth  params_max_iter  \\\n",
      "872                     0.0055                 6              210   \n",
      "\n",
      "     params_second_layer_neurons     state  \n",
      "872                            1  COMPLETE  \n"
     ]
    }
   ],
   "source": [
    "# 일요일 결과 저장\n",
    "SUN_hyper = study.trials_dataframe().sort_values([\"value\"]).head(1)\n",
    "print(SUN_hyper)\n",
    "SUN_hyper.to_csv(\"SUN_hyper.csv\", index=False, encoding=\"utf-8-sig\")"
   ]
  },
  {
   "cell_type": "code",
   "execution_count": 86,
   "metadata": {},
   "outputs": [
    {
     "name": "stdout",
     "output_type": "stream",
     "text": [
      "MLP Score:  17.377891712067555\n"
     ]
    }
   ],
   "source": [
    "# 최적 파라미터 적용\n",
    "model_SUN = MLPRegressor(\n",
    "        hidden_layer_sizes = study.trials_dataframe().sort_values([\"value\"]).params_first_layer_neurons.iloc[0],\n",
    "        learning_rate_init = study.trials_dataframe().sort_values([\"value\"]).params_learning_rate_init.iloc[0],\n",
    "        activation = study.trials_dataframe().sort_values([\"value\"]).params_activation.iloc[0],\n",
    "        random_state = 42,\n",
    "        max_iter = study.trials_dataframe().sort_values([\"value\"]).params_max_iter\t.iloc[0],\n",
    "        learning_rate = study.trials_dataframe().sort_values([\"value\"]).params_learning_rate.iloc[0]\n",
    "    ).fit(X_Data, Y_Data.values.ravel())\n",
    "\n",
    "mlp_pred_SUN = model_SUN.predict(X_Test)\n",
    "\n",
    "print( \"MLP Score: \", mean_absolute_percentage_error(Y_Test, mlp_pred_SUN))\n",
    "pred.extend(mlp_pred_SUN)"
   ]
  },
  {
   "cell_type": "markdown",
   "metadata": {},
   "source": [
    "# 주 별 MLP 결과 점수"
   ]
  },
  {
   "cell_type": "code",
   "execution_count": 87,
   "metadata": {},
   "outputs": [
    {
     "name": "stdout",
     "output_type": "stream",
     "text": [
      "Final MLP Score:  14.074235471717989\n"
     ]
    }
   ],
   "source": [
    "print( \"Final MLP Score: \", mean_absolute_percentage_error(test_data.Power, pred))"
   ]
  },
  {
   "cell_type": "markdown",
   "metadata": {},
   "source": [
    "# 위 과정을 요일별로 반복하여 원하는 mape임계값 도출을 해낸 뒤 최종 결과"
   ]
  },
  {
   "cell_type": "markdown",
   "metadata": {},
   "source": [
    "# 1. Data and Function"
   ]
  },
  {
   "cell_type": "code",
   "execution_count": 27,
   "metadata": {},
   "outputs": [
    {
     "data": {
      "text/html": [
       "<div>\n",
       "<style scoped>\n",
       "    .dataframe tbody tr th:only-of-type {\n",
       "        vertical-align: middle;\n",
       "    }\n",
       "\n",
       "    .dataframe tbody tr th {\n",
       "        vertical-align: top;\n",
       "    }\n",
       "\n",
       "    .dataframe thead th {\n",
       "        text-align: right;\n",
       "    }\n",
       "</style>\n",
       "<table border=\"1\" class=\"dataframe\">\n",
       "  <thead>\n",
       "    <tr style=\"text-align: right;\">\n",
       "      <th></th>\n",
       "      <th>Date</th>\n",
       "      <th>Month</th>\n",
       "      <th>Day</th>\n",
       "      <th>Weekday</th>\n",
       "      <th>IV01</th>\n",
       "      <th>IV02</th>\n",
       "      <th>IV03</th>\n",
       "      <th>IV04</th>\n",
       "      <th>IV05</th>\n",
       "      <th>IV06</th>\n",
       "      <th>...</th>\n",
       "      <th>IV16</th>\n",
       "      <th>IV17</th>\n",
       "      <th>IV18</th>\n",
       "      <th>IV19</th>\n",
       "      <th>IV20</th>\n",
       "      <th>IV21</th>\n",
       "      <th>IV22</th>\n",
       "      <th>IV23</th>\n",
       "      <th>IV24</th>\n",
       "      <th>Power</th>\n",
       "    </tr>\n",
       "  </thead>\n",
       "  <tbody>\n",
       "    <tr>\n",
       "      <th>0</th>\n",
       "      <td>2009-01-02</td>\n",
       "      <td>1</td>\n",
       "      <td>2</td>\n",
       "      <td>5</td>\n",
       "      <td>0.5</td>\n",
       "      <td>0.866025</td>\n",
       "      <td>0.394356</td>\n",
       "      <td>0.918958</td>\n",
       "      <td>-0.433884</td>\n",
       "      <td>-0.900969</td>\n",
       "      <td>...</td>\n",
       "      <td>0.0</td>\n",
       "      <td>0</td>\n",
       "      <td>0.0</td>\n",
       "      <td>0</td>\n",
       "      <td>0.0</td>\n",
       "      <td>0</td>\n",
       "      <td>0.0</td>\n",
       "      <td>0</td>\n",
       "      <td>0.0</td>\n",
       "      <td>45.5</td>\n",
       "    </tr>\n",
       "    <tr>\n",
       "      <th>1</th>\n",
       "      <td>2009-01-03</td>\n",
       "      <td>1</td>\n",
       "      <td>3</td>\n",
       "      <td>6</td>\n",
       "      <td>0.5</td>\n",
       "      <td>0.866025</td>\n",
       "      <td>0.571268</td>\n",
       "      <td>0.820763</td>\n",
       "      <td>-0.974928</td>\n",
       "      <td>-0.222521</td>\n",
       "      <td>...</td>\n",
       "      <td>0.0</td>\n",
       "      <td>0</td>\n",
       "      <td>0.0</td>\n",
       "      <td>0</td>\n",
       "      <td>0.0</td>\n",
       "      <td>0</td>\n",
       "      <td>0.0</td>\n",
       "      <td>0</td>\n",
       "      <td>45.5</td>\n",
       "      <td>70.9</td>\n",
       "    </tr>\n",
       "    <tr>\n",
       "      <th>2</th>\n",
       "      <td>2009-01-04</td>\n",
       "      <td>1</td>\n",
       "      <td>4</td>\n",
       "      <td>7</td>\n",
       "      <td>0.5</td>\n",
       "      <td>0.866025</td>\n",
       "      <td>0.724793</td>\n",
       "      <td>0.688967</td>\n",
       "      <td>-0.781831</td>\n",
       "      <td>0.623490</td>\n",
       "      <td>...</td>\n",
       "      <td>0.0</td>\n",
       "      <td>0</td>\n",
       "      <td>0.0</td>\n",
       "      <td>0</td>\n",
       "      <td>0.0</td>\n",
       "      <td>0</td>\n",
       "      <td>45.5</td>\n",
       "      <td>1</td>\n",
       "      <td>70.9</td>\n",
       "      <td>73.2</td>\n",
       "    </tr>\n",
       "    <tr>\n",
       "      <th>3</th>\n",
       "      <td>2009-01-05</td>\n",
       "      <td>1</td>\n",
       "      <td>5</td>\n",
       "      <td>1</td>\n",
       "      <td>0.5</td>\n",
       "      <td>0.866025</td>\n",
       "      <td>0.848644</td>\n",
       "      <td>0.528964</td>\n",
       "      <td>0.000000</td>\n",
       "      <td>1.000000</td>\n",
       "      <td>...</td>\n",
       "      <td>0.0</td>\n",
       "      <td>0</td>\n",
       "      <td>0.0</td>\n",
       "      <td>0</td>\n",
       "      <td>45.5</td>\n",
       "      <td>1</td>\n",
       "      <td>70.9</td>\n",
       "      <td>1</td>\n",
       "      <td>73.2</td>\n",
       "      <td>71.6</td>\n",
       "    </tr>\n",
       "    <tr>\n",
       "      <th>4</th>\n",
       "      <td>2009-01-06</td>\n",
       "      <td>1</td>\n",
       "      <td>6</td>\n",
       "      <td>2</td>\n",
       "      <td>0.5</td>\n",
       "      <td>0.866025</td>\n",
       "      <td>0.937752</td>\n",
       "      <td>0.347305</td>\n",
       "      <td>0.781831</td>\n",
       "      <td>0.623490</td>\n",
       "      <td>...</td>\n",
       "      <td>0.0</td>\n",
       "      <td>0</td>\n",
       "      <td>45.5</td>\n",
       "      <td>1</td>\n",
       "      <td>70.9</td>\n",
       "      <td>1</td>\n",
       "      <td>73.2</td>\n",
       "      <td>0</td>\n",
       "      <td>71.6</td>\n",
       "      <td>58.6</td>\n",
       "    </tr>\n",
       "  </tbody>\n",
       "</table>\n",
       "<p>5 rows × 29 columns</p>\n",
       "</div>"
      ],
      "text/plain": [
       "         Date  Month  Day  Weekday  IV01      IV02      IV03      IV04  \\\n",
       "0  2009-01-02      1    2        5   0.5  0.866025  0.394356  0.918958   \n",
       "1  2009-01-03      1    3        6   0.5  0.866025  0.571268  0.820763   \n",
       "2  2009-01-04      1    4        7   0.5  0.866025  0.724793  0.688967   \n",
       "3  2009-01-05      1    5        1   0.5  0.866025  0.848644  0.528964   \n",
       "4  2009-01-06      1    6        2   0.5  0.866025  0.937752  0.347305   \n",
       "\n",
       "       IV05      IV06  ...  IV16  IV17  IV18  IV19  IV20  IV21  IV22  IV23  \\\n",
       "0 -0.433884 -0.900969  ...   0.0     0   0.0     0   0.0     0   0.0     0   \n",
       "1 -0.974928 -0.222521  ...   0.0     0   0.0     0   0.0     0   0.0     0   \n",
       "2 -0.781831  0.623490  ...   0.0     0   0.0     0   0.0     0  45.5     1   \n",
       "3  0.000000  1.000000  ...   0.0     0   0.0     0  45.5     1  70.9     1   \n",
       "4  0.781831  0.623490  ...   0.0     0  45.5     1  70.9     1  73.2     0   \n",
       "\n",
       "   IV24  Power  \n",
       "0   0.0   45.5  \n",
       "1  45.5   70.9  \n",
       "2  70.9   73.2  \n",
       "3  73.2   71.6  \n",
       "4  71.6   58.6  \n",
       "\n",
       "[5 rows x 29 columns]"
      ]
     },
     "execution_count": 27,
     "metadata": {},
     "output_type": "execute_result"
    }
   ],
   "source": [
    "# 평가지표 MAPE 확인용 함수 생성 \n",
    "def mean_absolute_percentage_error(y_true, y_pred):\n",
    "    y_true, y_pred= np.array(y_true), np.array(y_pred)\n",
    "    return np.mean(np.abs((y_true-y_pred) / y_true)) * 100\n",
    "\n",
    "# 데이터 불러오기\n",
    "data = pd.read_csv(\"Assignment Material.csv\")\n",
    "data.head()"
   ]
  },
  {
   "cell_type": "code",
   "execution_count": 28,
   "metadata": {},
   "outputs": [],
   "source": [
    "train_data= data.iloc[7:729, 0:]\n",
    "test_data= data.iloc[729:, 0:]# 2011년"
   ]
  },
  {
   "cell_type": "code",
   "execution_count": 29,
   "metadata": {},
   "outputs": [],
   "source": [
    "train_data = train_data.sort_values([\"Weekday\", \"Date\"])\n",
    "test_data = test_data.sort_values([\"Weekday\", \"Date\"])\n",
    "Y_test = test_data.Power\n",
    "\n",
    "pred = []"
   ]
  },
  {
   "cell_type": "markdown",
   "metadata": {},
   "source": [
    "# 2. 요일 별 최적 파라미터에 맞춰 학습 및 결과"
   ]
  },
  {
   "cell_type": "code",
   "execution_count": 30,
   "metadata": {},
   "outputs": [
    {
     "name": "stdout",
     "output_type": "stream",
     "text": [
      "MLP Score:  15.06189759052045\n"
     ]
    }
   ],
   "source": [
    "# 월요일\n",
    "X_Data = train_data.loc[train_data.Weekday == 1, ].drop([\"Date\",'Month', 'Day', 'Weekday', 'Power'], axis=1)\n",
    "Y_Data = train_data.loc[train_data.Weekday == 1, 'Power']\n",
    "X_Test = test_data.loc[test_data.Weekday == 1, ].drop([\"Date\",'Month', 'Day', 'Weekday', 'Power'], axis=1)\n",
    "Y_Test = test_data.loc[test_data.Weekday == 1, 'Power']\n",
    "\n",
    "scaler = StandardScaler().fit(X_Data)\n",
    "X_Data= scaler.transform(X_Data)\n",
    "X_Test= scaler.transform(X_Test)\n",
    "\n",
    "MON = pd.read_csv(\"MON_hyper.csv\")\n",
    "\n",
    "model_MON = MLPRegressor(\n",
    "        hidden_layer_sizes = MON.params_first_layer_neurons.iloc[0],\n",
    "        learning_rate_init = MON.params_learning_rate_init.iloc[0],\n",
    "        activation = MON.params_activation.iloc[0],\n",
    "        random_state = 42,\n",
    "        max_iter = MON.params_max_iter\t.iloc[0],\n",
    "        learning_rate = MON.params_learning_rate.iloc[0]\n",
    "    ).fit(X_Data, Y_Data.values.ravel())\n",
    "\n",
    "mlp_pred_MON = model_MON.predict(X_Test)\n",
    "\n",
    "print( \"MLP Score: \", mean_absolute_percentage_error(Y_Test, mlp_pred_MON))\n",
    "pred.extend(mlp_pred_MON)"
   ]
  },
  {
   "cell_type": "code",
   "execution_count": 31,
   "metadata": {},
   "outputs": [
    {
     "name": "stdout",
     "output_type": "stream",
     "text": [
      "MLP Score:  9.139003047047469\n"
     ]
    }
   ],
   "source": [
    "# 화요일\n",
    "X_Data = train_data.loc[train_data.Weekday == 2, ].drop([\"Date\",'Month', 'Day', 'Weekday', 'Power'], axis=1)\n",
    "Y_Data = train_data.loc[train_data.Weekday == 2, 'Power']\n",
    "X_Test = test_data.loc[test_data.Weekday == 2, ].drop([\"Date\",'Month', 'Day', 'Weekday', 'Power'], axis=1)\n",
    "Y_Test = test_data.loc[test_data.Weekday == 2, 'Power']\n",
    "\n",
    "scaler = StandardScaler().fit(X_Data)\n",
    "X_Data= scaler.transform(X_Data)\n",
    "X_Test= scaler.transform(X_Test)\n",
    "\n",
    "TUE = pd.read_csv(\"TUE_hyper.csv\")\n",
    "\n",
    "model_TUE = MLPRegressor(\n",
    "        hidden_layer_sizes = TUE.params_first_layer_neurons.iloc[0],\n",
    "        learning_rate_init = TUE.params_learning_rate_init.iloc[0],\n",
    "        activation = TUE.params_activation.iloc[0],\n",
    "        random_state = 42,\n",
    "        max_iter = TUE.params_max_iter\t.iloc[0],\n",
    "        learning_rate = TUE.params_learning_rate.iloc[0]\n",
    "    ).fit(X_Data, Y_Data.values.ravel())\n",
    "\n",
    "mlp_pred_TUE = model_TUE.predict(X_Test)\n",
    "\n",
    "print( \"MLP Score: \", mean_absolute_percentage_error(Y_Test, mlp_pred_TUE))\n",
    "pred.extend(mlp_pred_TUE)"
   ]
  },
  {
   "cell_type": "code",
   "execution_count": 32,
   "metadata": {},
   "outputs": [
    {
     "name": "stdout",
     "output_type": "stream",
     "text": [
      "MLP Score:  11.505910827216184\n"
     ]
    }
   ],
   "source": [
    "# 수요일\n",
    "X_Data = train_data.loc[train_data.Weekday == 3, ].drop([\"Date\",'Month', 'Day', 'Weekday', 'Power'], axis=1)\n",
    "Y_Data = train_data.loc[train_data.Weekday == 3, 'Power']\n",
    "X_Test = test_data.loc[test_data.Weekday == 3, ].drop([\"Date\",'Month', 'Day', 'Weekday', 'Power'], axis=1)\n",
    "Y_Test = test_data.loc[test_data.Weekday == 3, 'Power']\n",
    "\n",
    "scaler = StandardScaler().fit(X_Data)\n",
    "X_Data= scaler.transform(X_Data)\n",
    "X_Test= scaler.transform(X_Test)\n",
    "\n",
    "WED = pd.read_csv(\"WED_hyper.csv\")\n",
    "\n",
    "model_WED = MLPRegressor(\n",
    "        hidden_layer_sizes = WED.params_first_layer_neurons.iloc[0],\n",
    "        learning_rate_init = WED.params_learning_rate_init.iloc[0],\n",
    "        activation = WED.params_activation.iloc[0],\n",
    "        random_state = 42,\n",
    "        max_iter = WED.params_max_iter\t.iloc[0],\n",
    "        learning_rate = WED.params_learning_rate.iloc[0]\n",
    "    ).fit(X_Data, Y_Data.values.ravel())\n",
    "\n",
    "mlp_pred_WED = model_WED.predict(X_Test)\n",
    "\n",
    "print( \"MLP Score: \", mean_absolute_percentage_error(Y_Test, mlp_pred_WED))\n",
    "pred.extend(mlp_pred_WED)"
   ]
  },
  {
   "cell_type": "code",
   "execution_count": 33,
   "metadata": {},
   "outputs": [
    {
     "name": "stdout",
     "output_type": "stream",
     "text": [
      "MLP Score:  9.865839007473086\n"
     ]
    }
   ],
   "source": [
    "# 목요일\n",
    "X_Data = train_data.loc[train_data.Weekday == 4, ].drop([\"Date\",'Month', 'Day', 'Weekday', 'Power'], axis=1)\n",
    "Y_Data = train_data.loc[train_data.Weekday == 4, 'Power']\n",
    "X_Test = test_data.loc[test_data.Weekday == 4, ].drop([\"Date\",'Month', 'Day', 'Weekday', 'Power'], axis=1)\n",
    "Y_Test = test_data.loc[test_data.Weekday == 4, 'Power']\n",
    "\n",
    "scaler = StandardScaler().fit(X_Data)\n",
    "X_Data= scaler.transform(X_Data)\n",
    "X_Test= scaler.transform(X_Test)\n",
    "\n",
    "THUR = pd.read_csv(\"THUR_hyper.csv\")\n",
    "\n",
    "model_THUR = MLPRegressor(\n",
    "        hidden_layer_sizes = THUR.params_first_layer_neurons.iloc[0],\n",
    "        learning_rate_init = THUR.params_learning_rate_init.iloc[0],\n",
    "        activation = THUR.params_activation.iloc[0],\n",
    "        random_state = 42,\n",
    "        max_iter = THUR.params_max_iter\t.iloc[0],\n",
    "        learning_rate = THUR.params_learning_rate.iloc[0]\n",
    "    ).fit(X_Data, Y_Data.values.ravel())\n",
    "\n",
    "mlp_pred_THUR = model_THUR.predict(X_Test)\n",
    "\n",
    "print( \"MLP Score: \", mean_absolute_percentage_error(Y_Test, mlp_pred_THUR))\n",
    "pred.extend(mlp_pred_THUR)"
   ]
  },
  {
   "cell_type": "code",
   "execution_count": 34,
   "metadata": {},
   "outputs": [
    {
     "name": "stdout",
     "output_type": "stream",
     "text": [
      "MLP Score:  10.944280040174336\n"
     ]
    }
   ],
   "source": [
    "# 금요일\n",
    "X_Data = train_data.loc[train_data.Weekday == 5, ].drop([\"Date\",'Month', 'Day', 'Weekday', 'Power'], axis=1)\n",
    "Y_Data = train_data.loc[train_data.Weekday == 5, 'Power']\n",
    "X_Test = test_data.loc[test_data.Weekday == 5, ].drop([\"Date\",'Month', 'Day', 'Weekday', 'Power'], axis=1)\n",
    "Y_Test = test_data.loc[test_data.Weekday == 5, 'Power']\n",
    "\n",
    "scaler = StandardScaler().fit(X_Data)\n",
    "X_Data= scaler.transform(X_Data)\n",
    "X_Test= scaler.transform(X_Test)\n",
    "\n",
    "FRI = pd.read_csv(\"FRI_hyper.csv\")\n",
    "\n",
    "model_FRI = MLPRegressor(\n",
    "        hidden_layer_sizes = FRI.params_first_layer_neurons.iloc[0],\n",
    "        learning_rate_init = FRI.params_learning_rate_init.iloc[0],\n",
    "        activation = FRI.params_activation.iloc[0],\n",
    "        random_state = 42,\n",
    "        max_iter = FRI.params_max_iter\t.iloc[0],\n",
    "        learning_rate = FRI.params_learning_rate.iloc[0]\n",
    "    ).fit(X_Data, Y_Data.values.ravel())\n",
    "\n",
    "mlp_pred_FRI = model_FRI.predict(X_Test)\n",
    "\n",
    "print( \"MLP Score: \", mean_absolute_percentage_error(Y_Test, mlp_pred_FRI))\n",
    "pred.extend(mlp_pred_FRI)"
   ]
  },
  {
   "cell_type": "code",
   "execution_count": 35,
   "metadata": {},
   "outputs": [
    {
     "name": "stdout",
     "output_type": "stream",
     "text": [
      "MLP Score:  22.95708370645188\n"
     ]
    }
   ],
   "source": [
    "# 토요일\n",
    "X_Data = train_data.loc[train_data.Weekday == 6, ].drop([\"Date\",'Month', 'Day', 'Weekday', 'Power'], axis=1)\n",
    "Y_Data = train_data.loc[train_data.Weekday == 6, 'Power']\n",
    "X_Test = test_data.loc[test_data.Weekday == 6, ].drop([\"Date\",'Month', 'Day', 'Weekday', 'Power'], axis=1)\n",
    "Y_Test = test_data.loc[test_data.Weekday == 6, 'Power']\n",
    "\n",
    "scaler = StandardScaler().fit(X_Data)\n",
    "X_Data= scaler.transform(X_Data)\n",
    "X_Test= scaler.transform(X_Test)\n",
    "\n",
    "SAT = pd.read_csv(\"SAT_hyper.csv\")\n",
    "\n",
    "model_SAT = MLPRegressor(\n",
    "        hidden_layer_sizes = SAT.params_first_layer_neurons.iloc[0],\n",
    "        learning_rate_init = SAT.params_learning_rate_init.iloc[0],\n",
    "        activation = SAT.params_activation.iloc[0],\n",
    "        random_state = 42,\n",
    "        max_iter = SAT.params_max_iter\t.iloc[0],\n",
    "        learning_rate = SAT.params_learning_rate.iloc[0]\n",
    "    ).fit(X_Data, Y_Data.values.ravel())\n",
    "\n",
    "mlp_pred_SAT = model_SAT.predict(X_Test)\n",
    "\n",
    "print( \"MLP Score: \", mean_absolute_percentage_error(Y_Test, mlp_pred_SAT))\n",
    "pred.extend(mlp_pred_SAT)"
   ]
  },
  {
   "cell_type": "code",
   "execution_count": 36,
   "metadata": {},
   "outputs": [
    {
     "name": "stdout",
     "output_type": "stream",
     "text": [
      "MLP Score:  16.897660292031144\n"
     ]
    }
   ],
   "source": [
    "# 일요일\n",
    "X_Data = train_data.loc[train_data.Weekday == 7, ].drop([\"Date\",'Month', 'Day', 'Weekday', 'Power'], axis=1)\n",
    "Y_Data = train_data.loc[train_data.Weekday == 7, 'Power']\n",
    "X_Test = test_data.loc[test_data.Weekday == 7, ].drop([\"Date\",'Month', 'Day', 'Weekday', 'Power'], axis=1)\n",
    "Y_Test = test_data.loc[test_data.Weekday == 7, 'Power']\n",
    "\n",
    "scaler = StandardScaler().fit(X_Data)\n",
    "X_Data= scaler.transform(X_Data)\n",
    "X_Test= scaler.transform(X_Test)\n",
    "\n",
    "SUN = pd.read_csv(\"SUN_hyper.csv\")\n",
    "\n",
    "model_SUN = MLPRegressor(\n",
    "        hidden_layer_sizes = SUN.params_first_layer_neurons.iloc[0],\n",
    "        learning_rate_init = SUN.params_learning_rate_init.iloc[0],\n",
    "        activation = SUN.params_activation.iloc[0],\n",
    "        random_state = 42,\n",
    "        max_iter = SUN.params_max_iter\t.iloc[0],\n",
    "        learning_rate = SUN.params_learning_rate.iloc[0]\n",
    "    ).fit(X_Data, Y_Data.values.ravel())\n",
    "\n",
    "mlp_pred_SUN = model_SUN.predict(X_Test)\n",
    "\n",
    "print( \"MLP Score: \", mean_absolute_percentage_error(Y_Test, mlp_pred_SUN))\n",
    "pred.extend(mlp_pred_SUN)"
   ]
  },
  {
   "cell_type": "markdown",
   "metadata": {},
   "source": [
    "# 3. 최종 점수 확인"
   ]
  },
  {
   "cell_type": "code",
   "execution_count": 37,
   "metadata": {},
   "outputs": [
    {
     "name": "stdout",
     "output_type": "stream",
     "text": [
      "Final MLP Score:  13.792559337737007\n"
     ]
    }
   ],
   "source": [
    "print( \"Final MLP Score: \", mean_absolute_percentage_error(test_data.Power, pred))"
   ]
  }
 ],
 "metadata": {
  "kernelspec": {
   "display_name": "base",
   "language": "python",
   "name": "python3"
  },
  "language_info": {
   "codemirror_mode": {
    "name": "ipython",
    "version": 3
   },
   "file_extension": ".py",
   "mimetype": "text/x-python",
   "name": "python",
   "nbconvert_exporter": "python",
   "pygments_lexer": "ipython3",
   "version": "3.9.13 (main, Aug 25 2022, 23:51:50) [MSC v.1916 64 bit (AMD64)]"
  },
  "orig_nbformat": 4,
  "vscode": {
   "interpreter": {
    "hash": "ad2bdc8ecc057115af97d19610ffacc2b4e99fae6737bb82f5d7fb13d2f2c186"
   }
  }
 },
 "nbformat": 4,
 "nbformat_minor": 2
}
